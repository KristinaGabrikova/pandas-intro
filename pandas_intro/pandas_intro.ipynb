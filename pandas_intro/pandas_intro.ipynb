{
 "cells": [
  {
   "cell_type": "markdown",
   "metadata": {},
   "source": [
    "# Úvod do Pandas"
   ]
  },
  {
   "cell_type": "markdown",
   "metadata": {},
   "source": [
    "Potřeba nainstalovat jako modul do Pythonu. Pokud ještě nemáte, do terminálu (ne do Pythonovské konzole) napište:\n",
    "* na Windows `pip install pandas`,\n",
    "* na Linuxu nebo Macu `pip3 install pandas`."
   ]
  },
  {
   "cell_type": "markdown",
   "metadata": {},
   "source": [
    "Pandas:\n",
    "* Je základní knihovna pro práci s daty v Pythonu.\n",
    "* Velká část datové analýzy obnáší právě práci s Pandas.\n",
    "* Datový soubor reprezentuje podobně jako tabulka v databázích, \"DataFrame\"."
   ]
  },
  {
   "cell_type": "markdown",
   "metadata": {},
   "source": [
    "## 1. Základní práce s DataFrame"
   ]
  },
  {
   "cell_type": "markdown",
   "metadata": {},
   "source": [
    "### Načítání dat"
   ]
  },
  {
   "cell_type": "markdown",
   "metadata": {},
   "source": [
    "* Pandas umí načítat všechny možné formáty -- CSV, JSON, Excel, HTML, SQL databáze, a spoustu dalších, stejně tak je možné do nich ukládat.\n",
    "    * Toho lze využít např. pro převod dat z Excelu do CSV.\n",
    "* Rovněž umožňují stáhnout data z internetu -- místo cesty k souboru na disku dáme URL adresu.\n",
    "* Podporují kompresi -- ZIP archivy a podobně."
   ]
  },
  {
   "cell_type": "code",
   "execution_count": 1,
   "metadata": {},
   "outputs": [],
   "source": [
    "import pandas"
   ]
  },
  {
   "cell_type": "markdown",
   "metadata": {},
   "source": [
    "Příklad: tabulka měst provozujících tramvajovou dopravu."
   ]
  },
  {
   "cell_type": "code",
   "execution_count": 2,
   "metadata": {},
   "outputs": [
    {
     "data": {
      "text/html": [
       "<div>\n",
       "<style scoped>\n",
       "    .dataframe tbody tr th:only-of-type {\n",
       "        vertical-align: middle;\n",
       "    }\n",
       "\n",
       "    .dataframe tbody tr th {\n",
       "        vertical-align: top;\n",
       "    }\n",
       "\n",
       "    .dataframe thead th {\n",
       "        text-align: right;\n",
       "    }\n",
       "</style>\n",
       "<table border=\"1\" class=\"dataframe\">\n",
       "  <thead>\n",
       "    <tr style=\"text-align: right;\">\n",
       "      <th></th>\n",
       "      <th>kraj</th>\n",
       "      <th>obyvatel</th>\n",
       "      <th>linky</th>\n",
       "      <th>vymera</th>\n",
       "    </tr>\n",
       "    <tr>\n",
       "      <th>mesto</th>\n",
       "      <th></th>\n",
       "      <th></th>\n",
       "      <th></th>\n",
       "      <th></th>\n",
       "    </tr>\n",
       "  </thead>\n",
       "  <tbody>\n",
       "    <tr>\n",
       "      <th>brno</th>\n",
       "      <td>JHM</td>\n",
       "      <td>379 527</td>\n",
       "      <td>22</td>\n",
       "      <td>230.22</td>\n",
       "    </tr>\n",
       "    <tr>\n",
       "      <th>liberec</th>\n",
       "      <td>LBK</td>\n",
       "      <td>103 979</td>\n",
       "      <td>6</td>\n",
       "      <td>106.09</td>\n",
       "    </tr>\n",
       "    <tr>\n",
       "      <th>litvinov</th>\n",
       "      <td>ULK</td>\n",
       "      <td>24 143</td>\n",
       "      <td>5</td>\n",
       "      <td>40.70</td>\n",
       "    </tr>\n",
       "    <tr>\n",
       "      <th>most</th>\n",
       "      <td>ULK</td>\n",
       "      <td>66 644</td>\n",
       "      <td>5</td>\n",
       "      <td>86.94</td>\n",
       "    </tr>\n",
       "    <tr>\n",
       "      <th>olomouc</th>\n",
       "      <td>OLK</td>\n",
       "      <td>100 494</td>\n",
       "      <td>7</td>\n",
       "      <td>103.36</td>\n",
       "    </tr>\n",
       "    <tr>\n",
       "      <th>ostrava</th>\n",
       "      <td>MSK</td>\n",
       "      <td>290 450</td>\n",
       "      <td>15</td>\n",
       "      <td>214.23</td>\n",
       "    </tr>\n",
       "    <tr>\n",
       "      <th>plzen</th>\n",
       "      <td>PLK</td>\n",
       "      <td>170 936</td>\n",
       "      <td>3</td>\n",
       "      <td>137.65</td>\n",
       "    </tr>\n",
       "    <tr>\n",
       "      <th>praha</th>\n",
       "      <td>PHA</td>\n",
       "      <td>1 294 513</td>\n",
       "      <td>24</td>\n",
       "      <td>496.00</td>\n",
       "    </tr>\n",
       "  </tbody>\n",
       "</table>\n",
       "</div>"
      ],
      "text/plain": [
       "         kraj   obyvatel  linky  vymera\n",
       "mesto                                  \n",
       "brno      JHM    379 527     22  230.22\n",
       "liberec   LBK    103 979      6  106.09\n",
       "litvinov  ULK     24 143      5   40.70\n",
       "most      ULK     66 644      5   86.94\n",
       "olomouc   OLK    100 494      7  103.36\n",
       "ostrava   MSK    290 450     15  214.23\n",
       "plzen     PLK    170 936      3  137.65\n",
       "praha     PHA  1 294 513     24  496.00"
      ]
     },
     "execution_count": 2,
     "metadata": {},
     "output_type": "execute_result"
    }
   ],
   "source": [
    "mesta = pandas.read_csv(\"mesta.csv\", index_col=\"mesto\", encoding=\"utf-8\")\n",
    "mesta"
   ]
  },
  {
   "cell_type": "markdown",
   "metadata": {},
   "source": [
    "### Základní informace o tabulce"
   ]
  },
  {
   "cell_type": "markdown",
   "metadata": {},
   "source": [
    "Datové typy, názvy sloupců, počet neprázdných hodnot."
   ]
  },
  {
   "cell_type": "code",
   "execution_count": 3,
   "metadata": {},
   "outputs": [
    {
     "name": "stdout",
     "output_type": "stream",
     "text": [
      "<class 'pandas.core.frame.DataFrame'>\n",
      "Index: 8 entries, brno to praha\n",
      "Data columns (total 4 columns):\n",
      " #   Column    Non-Null Count  Dtype  \n",
      "---  ------    --------------  -----  \n",
      " 0   kraj      8 non-null      object \n",
      " 1   obyvatel  8 non-null      object \n",
      " 2   linky     8 non-null      int64  \n",
      " 3   vymera    8 non-null      float64\n",
      "dtypes: float64(1), int64(1), object(2)\n",
      "memory usage: 320.0+ bytes\n"
     ]
    }
   ],
   "source": [
    "mesta.info()"
   ]
  },
  {
   "cell_type": "markdown",
   "metadata": {},
   "source": [
    "Velikost."
   ]
  },
  {
   "cell_type": "code",
   "execution_count": 4,
   "metadata": {},
   "outputs": [
    {
     "data": {
      "text/plain": [
       "(8, 4)"
      ]
     },
     "execution_count": 4,
     "metadata": {},
     "output_type": "execute_result"
    }
   ],
   "source": [
    "mesta.shape"
   ]
  },
  {
   "cell_type": "markdown",
   "metadata": {},
   "source": [
    "Názvy sloupců."
   ]
  },
  {
   "cell_type": "code",
   "execution_count": 5,
   "metadata": {},
   "outputs": [
    {
     "data": {
      "text/plain": [
       "Index(['kraj', 'obyvatel', 'linky', 'vymera'], dtype='object')"
      ]
     },
     "execution_count": 5,
     "metadata": {},
     "output_type": "execute_result"
    }
   ],
   "source": [
    "mesta.columns"
   ]
  },
  {
   "cell_type": "code",
   "execution_count": 6,
   "metadata": {},
   "outputs": [
    {
     "data": {
      "text/plain": [
       "['kraj', 'obyvatel', 'linky', 'vymera']"
      ]
     },
     "execution_count": 6,
     "metadata": {},
     "output_type": "execute_result"
    }
   ],
   "source": [
    "list(mesta)"
   ]
  },
  {
   "cell_type": "markdown",
   "metadata": {},
   "source": [
    "Základní statistické údaje -- jen na číselných sloupcích."
   ]
  },
  {
   "cell_type": "code",
   "execution_count": 7,
   "metadata": {},
   "outputs": [
    {
     "data": {
      "text/html": [
       "<div>\n",
       "<style scoped>\n",
       "    .dataframe tbody tr th:only-of-type {\n",
       "        vertical-align: middle;\n",
       "    }\n",
       "\n",
       "    .dataframe tbody tr th {\n",
       "        vertical-align: top;\n",
       "    }\n",
       "\n",
       "    .dataframe thead th {\n",
       "        text-align: right;\n",
       "    }\n",
       "</style>\n",
       "<table border=\"1\" class=\"dataframe\">\n",
       "  <thead>\n",
       "    <tr style=\"text-align: right;\">\n",
       "      <th></th>\n",
       "      <th>linky</th>\n",
       "      <th>vymera</th>\n",
       "    </tr>\n",
       "  </thead>\n",
       "  <tbody>\n",
       "    <tr>\n",
       "      <th>count</th>\n",
       "      <td>8.000000</td>\n",
       "      <td>8.000000</td>\n",
       "    </tr>\n",
       "    <tr>\n",
       "      <th>mean</th>\n",
       "      <td>10.875000</td>\n",
       "      <td>176.898750</td>\n",
       "    </tr>\n",
       "    <tr>\n",
       "      <th>std</th>\n",
       "      <td>8.305549</td>\n",
       "      <td>143.759399</td>\n",
       "    </tr>\n",
       "    <tr>\n",
       "      <th>min</th>\n",
       "      <td>3.000000</td>\n",
       "      <td>40.700000</td>\n",
       "    </tr>\n",
       "    <tr>\n",
       "      <th>25%</th>\n",
       "      <td>5.000000</td>\n",
       "      <td>99.255000</td>\n",
       "    </tr>\n",
       "    <tr>\n",
       "      <th>50%</th>\n",
       "      <td>6.500000</td>\n",
       "      <td>121.870000</td>\n",
       "    </tr>\n",
       "    <tr>\n",
       "      <th>75%</th>\n",
       "      <td>16.750000</td>\n",
       "      <td>218.227500</td>\n",
       "    </tr>\n",
       "    <tr>\n",
       "      <th>max</th>\n",
       "      <td>24.000000</td>\n",
       "      <td>496.000000</td>\n",
       "    </tr>\n",
       "  </tbody>\n",
       "</table>\n",
       "</div>"
      ],
      "text/plain": [
       "           linky      vymera\n",
       "count   8.000000    8.000000\n",
       "mean   10.875000  176.898750\n",
       "std     8.305549  143.759399\n",
       "min     3.000000   40.700000\n",
       "25%     5.000000   99.255000\n",
       "50%     6.500000  121.870000\n",
       "75%    16.750000  218.227500\n",
       "max    24.000000  496.000000"
      ]
     },
     "execution_count": 7,
     "metadata": {},
     "output_type": "execute_result"
    }
   ],
   "source": [
    "mesta.describe()"
   ]
  },
  {
   "cell_type": "markdown",
   "metadata": {},
   "source": [
    "Prvních pár řádků tabulky."
   ]
  },
  {
   "cell_type": "code",
   "execution_count": 8,
   "metadata": {},
   "outputs": [
    {
     "data": {
      "text/html": [
       "<div>\n",
       "<style scoped>\n",
       "    .dataframe tbody tr th:only-of-type {\n",
       "        vertical-align: middle;\n",
       "    }\n",
       "\n",
       "    .dataframe tbody tr th {\n",
       "        vertical-align: top;\n",
       "    }\n",
       "\n",
       "    .dataframe thead th {\n",
       "        text-align: right;\n",
       "    }\n",
       "</style>\n",
       "<table border=\"1\" class=\"dataframe\">\n",
       "  <thead>\n",
       "    <tr style=\"text-align: right;\">\n",
       "      <th></th>\n",
       "      <th>kraj</th>\n",
       "      <th>obyvatel</th>\n",
       "      <th>linky</th>\n",
       "      <th>vymera</th>\n",
       "    </tr>\n",
       "    <tr>\n",
       "      <th>mesto</th>\n",
       "      <th></th>\n",
       "      <th></th>\n",
       "      <th></th>\n",
       "      <th></th>\n",
       "    </tr>\n",
       "  </thead>\n",
       "  <tbody>\n",
       "    <tr>\n",
       "      <th>brno</th>\n",
       "      <td>JHM</td>\n",
       "      <td>379 527</td>\n",
       "      <td>22</td>\n",
       "      <td>230.22</td>\n",
       "    </tr>\n",
       "    <tr>\n",
       "      <th>liberec</th>\n",
       "      <td>LBK</td>\n",
       "      <td>103 979</td>\n",
       "      <td>6</td>\n",
       "      <td>106.09</td>\n",
       "    </tr>\n",
       "    <tr>\n",
       "      <th>litvinov</th>\n",
       "      <td>ULK</td>\n",
       "      <td>24 143</td>\n",
       "      <td>5</td>\n",
       "      <td>40.70</td>\n",
       "    </tr>\n",
       "    <tr>\n",
       "      <th>most</th>\n",
       "      <td>ULK</td>\n",
       "      <td>66 644</td>\n",
       "      <td>5</td>\n",
       "      <td>86.94</td>\n",
       "    </tr>\n",
       "    <tr>\n",
       "      <th>olomouc</th>\n",
       "      <td>OLK</td>\n",
       "      <td>100 494</td>\n",
       "      <td>7</td>\n",
       "      <td>103.36</td>\n",
       "    </tr>\n",
       "  </tbody>\n",
       "</table>\n",
       "</div>"
      ],
      "text/plain": [
       "         kraj obyvatel  linky  vymera\n",
       "mesto                                \n",
       "brno      JHM  379 527     22  230.22\n",
       "liberec   LBK  103 979      6  106.09\n",
       "litvinov  ULK   24 143      5   40.70\n",
       "most      ULK   66 644      5   86.94\n",
       "olomouc   OLK  100 494      7  103.36"
      ]
     },
     "execution_count": 8,
     "metadata": {},
     "output_type": "execute_result"
    }
   ],
   "source": [
    "mesta.head()"
   ]
  },
  {
   "cell_type": "markdown",
   "metadata": {},
   "source": [
    "## 2. Základní selekce"
   ]
  },
  {
   "cell_type": "markdown",
   "metadata": {},
   "source": [
    "![DataFrame](dataframe.svg)"
   ]
  },
  {
   "cell_type": "markdown",
   "metadata": {},
   "source": [
    "### Výběr podle jmen řádků a sloupců"
   ]
  },
  {
   "cell_type": "markdown",
   "metadata": {},
   "source": [
    "#### 1. Pouze řádky"
   ]
  },
  {
   "cell_type": "code",
   "execution_count": 9,
   "metadata": {},
   "outputs": [
    {
     "data": {
      "text/plain": [
       "kraj            JHM\n",
       "obyvatel    379 527\n",
       "linky            22\n",
       "vymera       230.22\n",
       "Name: brno, dtype: object"
      ]
     },
     "execution_count": 9,
     "metadata": {},
     "output_type": "execute_result"
    }
   ],
   "source": [
    "mesta.loc[\"brno\"]"
   ]
  },
  {
   "cell_type": "code",
   "execution_count": 10,
   "metadata": {},
   "outputs": [
    {
     "data": {
      "text/html": [
       "<div>\n",
       "<style scoped>\n",
       "    .dataframe tbody tr th:only-of-type {\n",
       "        vertical-align: middle;\n",
       "    }\n",
       "\n",
       "    .dataframe tbody tr th {\n",
       "        vertical-align: top;\n",
       "    }\n",
       "\n",
       "    .dataframe thead th {\n",
       "        text-align: right;\n",
       "    }\n",
       "</style>\n",
       "<table border=\"1\" class=\"dataframe\">\n",
       "  <thead>\n",
       "    <tr style=\"text-align: right;\">\n",
       "      <th></th>\n",
       "      <th>kraj</th>\n",
       "      <th>obyvatel</th>\n",
       "      <th>linky</th>\n",
       "      <th>vymera</th>\n",
       "    </tr>\n",
       "    <tr>\n",
       "      <th>mesto</th>\n",
       "      <th></th>\n",
       "      <th></th>\n",
       "      <th></th>\n",
       "      <th></th>\n",
       "    </tr>\n",
       "  </thead>\n",
       "  <tbody>\n",
       "    <tr>\n",
       "      <th>brno</th>\n",
       "      <td>JHM</td>\n",
       "      <td>379 527</td>\n",
       "      <td>22</td>\n",
       "      <td>230.22</td>\n",
       "    </tr>\n",
       "    <tr>\n",
       "      <th>praha</th>\n",
       "      <td>PHA</td>\n",
       "      <td>1 294 513</td>\n",
       "      <td>24</td>\n",
       "      <td>496.00</td>\n",
       "    </tr>\n",
       "    <tr>\n",
       "      <th>ostrava</th>\n",
       "      <td>MSK</td>\n",
       "      <td>290 450</td>\n",
       "      <td>15</td>\n",
       "      <td>214.23</td>\n",
       "    </tr>\n",
       "  </tbody>\n",
       "</table>\n",
       "</div>"
      ],
      "text/plain": [
       "        kraj   obyvatel  linky  vymera\n",
       "mesto                                 \n",
       "brno     JHM    379 527     22  230.22\n",
       "praha    PHA  1 294 513     24  496.00\n",
       "ostrava  MSK    290 450     15  214.23"
      ]
     },
     "execution_count": 10,
     "metadata": {},
     "output_type": "execute_result"
    }
   ],
   "source": [
    "mesta.loc[[\"brno\", \"praha\", \"ostrava\"]]"
   ]
  },
  {
   "cell_type": "markdown",
   "metadata": {},
   "source": [
    "V prvním případě jsme dostali výsledek orientovaný na výšku, ve druhém na šířku. Poprvé jsme chtěli údaj o 1 městu a dostali tzv. `Series`, podruhé jsme chtěli údaj o více městech a dostali `DataFrame` (podmnožinu toho původního DataFrame `mesta`).\n",
    "\n",
    "Mohli bychom si taky explicitně říct o výsledek pro 1 město v podobě DataFrame."
   ]
  },
  {
   "cell_type": "code",
   "execution_count": 11,
   "metadata": {},
   "outputs": [
    {
     "data": {
      "text/html": [
       "<div>\n",
       "<style scoped>\n",
       "    .dataframe tbody tr th:only-of-type {\n",
       "        vertical-align: middle;\n",
       "    }\n",
       "\n",
       "    .dataframe tbody tr th {\n",
       "        vertical-align: top;\n",
       "    }\n",
       "\n",
       "    .dataframe thead th {\n",
       "        text-align: right;\n",
       "    }\n",
       "</style>\n",
       "<table border=\"1\" class=\"dataframe\">\n",
       "  <thead>\n",
       "    <tr style=\"text-align: right;\">\n",
       "      <th></th>\n",
       "      <th>kraj</th>\n",
       "      <th>obyvatel</th>\n",
       "      <th>linky</th>\n",
       "      <th>vymera</th>\n",
       "    </tr>\n",
       "    <tr>\n",
       "      <th>mesto</th>\n",
       "      <th></th>\n",
       "      <th></th>\n",
       "      <th></th>\n",
       "      <th></th>\n",
       "    </tr>\n",
       "  </thead>\n",
       "  <tbody>\n",
       "    <tr>\n",
       "      <th>brno</th>\n",
       "      <td>JHM</td>\n",
       "      <td>379 527</td>\n",
       "      <td>22</td>\n",
       "      <td>230.22</td>\n",
       "    </tr>\n",
       "  </tbody>\n",
       "</table>\n",
       "</div>"
      ],
      "text/plain": [
       "      kraj obyvatel  linky  vymera\n",
       "mesto                             \n",
       "brno   JHM  379 527     22  230.22"
      ]
     },
     "execution_count": 11,
     "metadata": {},
     "output_type": "execute_result"
    }
   ],
   "source": [
    "mesta.loc[[\"brno\"]]"
   ]
  },
  {
   "cell_type": "markdown",
   "metadata": {},
   "source": [
    "Lze použít také rozsah (záleží samozřejmě na pořadí, v jakém máme data uložena)."
   ]
  },
  {
   "cell_type": "code",
   "execution_count": 12,
   "metadata": {},
   "outputs": [
    {
     "data": {
      "text/html": [
       "<div>\n",
       "<style scoped>\n",
       "    .dataframe tbody tr th:only-of-type {\n",
       "        vertical-align: middle;\n",
       "    }\n",
       "\n",
       "    .dataframe tbody tr th {\n",
       "        vertical-align: top;\n",
       "    }\n",
       "\n",
       "    .dataframe thead th {\n",
       "        text-align: right;\n",
       "    }\n",
       "</style>\n",
       "<table border=\"1\" class=\"dataframe\">\n",
       "  <thead>\n",
       "    <tr style=\"text-align: right;\">\n",
       "      <th></th>\n",
       "      <th>kraj</th>\n",
       "      <th>obyvatel</th>\n",
       "      <th>linky</th>\n",
       "      <th>vymera</th>\n",
       "    </tr>\n",
       "    <tr>\n",
       "      <th>mesto</th>\n",
       "      <th></th>\n",
       "      <th></th>\n",
       "      <th></th>\n",
       "      <th></th>\n",
       "    </tr>\n",
       "  </thead>\n",
       "  <tbody>\n",
       "    <tr>\n",
       "      <th>most</th>\n",
       "      <td>ULK</td>\n",
       "      <td>66 644</td>\n",
       "      <td>5</td>\n",
       "      <td>86.94</td>\n",
       "    </tr>\n",
       "    <tr>\n",
       "      <th>olomouc</th>\n",
       "      <td>OLK</td>\n",
       "      <td>100 494</td>\n",
       "      <td>7</td>\n",
       "      <td>103.36</td>\n",
       "    </tr>\n",
       "    <tr>\n",
       "      <th>ostrava</th>\n",
       "      <td>MSK</td>\n",
       "      <td>290 450</td>\n",
       "      <td>15</td>\n",
       "      <td>214.23</td>\n",
       "    </tr>\n",
       "    <tr>\n",
       "      <th>plzen</th>\n",
       "      <td>PLK</td>\n",
       "      <td>170 936</td>\n",
       "      <td>3</td>\n",
       "      <td>137.65</td>\n",
       "    </tr>\n",
       "    <tr>\n",
       "      <th>praha</th>\n",
       "      <td>PHA</td>\n",
       "      <td>1 294 513</td>\n",
       "      <td>24</td>\n",
       "      <td>496.00</td>\n",
       "    </tr>\n",
       "  </tbody>\n",
       "</table>\n",
       "</div>"
      ],
      "text/plain": [
       "        kraj   obyvatel  linky  vymera\n",
       "mesto                                 \n",
       "most     ULK     66 644      5   86.94\n",
       "olomouc  OLK    100 494      7  103.36\n",
       "ostrava  MSK    290 450     15  214.23\n",
       "plzen    PLK    170 936      3  137.65\n",
       "praha    PHA  1 294 513     24  496.00"
      ]
     },
     "execution_count": 12,
     "metadata": {},
     "output_type": "execute_result"
    }
   ],
   "source": [
    "mesta.loc[\"most\":\"praha\"]"
   ]
  },
  {
   "cell_type": "markdown",
   "metadata": {},
   "source": [
    "Pozor na pořadí."
   ]
  },
  {
   "cell_type": "code",
   "execution_count": 13,
   "metadata": {},
   "outputs": [
    {
     "data": {
      "text/html": [
       "<div>\n",
       "<style scoped>\n",
       "    .dataframe tbody tr th:only-of-type {\n",
       "        vertical-align: middle;\n",
       "    }\n",
       "\n",
       "    .dataframe tbody tr th {\n",
       "        vertical-align: top;\n",
       "    }\n",
       "\n",
       "    .dataframe thead th {\n",
       "        text-align: right;\n",
       "    }\n",
       "</style>\n",
       "<table border=\"1\" class=\"dataframe\">\n",
       "  <thead>\n",
       "    <tr style=\"text-align: right;\">\n",
       "      <th></th>\n",
       "      <th>kraj</th>\n",
       "      <th>obyvatel</th>\n",
       "      <th>linky</th>\n",
       "      <th>vymera</th>\n",
       "    </tr>\n",
       "    <tr>\n",
       "      <th>mesto</th>\n",
       "      <th></th>\n",
       "      <th></th>\n",
       "      <th></th>\n",
       "      <th></th>\n",
       "    </tr>\n",
       "  </thead>\n",
       "  <tbody>\n",
       "  </tbody>\n",
       "</table>\n",
       "</div>"
      ],
      "text/plain": [
       "Empty DataFrame\n",
       "Columns: [kraj, obyvatel, linky, vymera]\n",
       "Index: []"
      ]
     },
     "execution_count": 13,
     "metadata": {},
     "output_type": "execute_result"
    }
   ],
   "source": [
    "mesta.loc[\"praha\":\"most\"]"
   ]
  },
  {
   "cell_type": "code",
   "execution_count": 14,
   "metadata": {},
   "outputs": [
    {
     "data": {
      "text/html": [
       "<div>\n",
       "<style scoped>\n",
       "    .dataframe tbody tr th:only-of-type {\n",
       "        vertical-align: middle;\n",
       "    }\n",
       "\n",
       "    .dataframe tbody tr th {\n",
       "        vertical-align: top;\n",
       "    }\n",
       "\n",
       "    .dataframe thead th {\n",
       "        text-align: right;\n",
       "    }\n",
       "</style>\n",
       "<table border=\"1\" class=\"dataframe\">\n",
       "  <thead>\n",
       "    <tr style=\"text-align: right;\">\n",
       "      <th></th>\n",
       "      <th>kraj</th>\n",
       "      <th>obyvatel</th>\n",
       "      <th>linky</th>\n",
       "      <th>vymera</th>\n",
       "    </tr>\n",
       "    <tr>\n",
       "      <th>mesto</th>\n",
       "      <th></th>\n",
       "      <th></th>\n",
       "      <th></th>\n",
       "      <th></th>\n",
       "    </tr>\n",
       "  </thead>\n",
       "  <tbody>\n",
       "    <tr>\n",
       "      <th>most</th>\n",
       "      <td>ULK</td>\n",
       "      <td>66 644</td>\n",
       "      <td>5</td>\n",
       "      <td>86.94</td>\n",
       "    </tr>\n",
       "    <tr>\n",
       "      <th>ostrava</th>\n",
       "      <td>MSK</td>\n",
       "      <td>290 450</td>\n",
       "      <td>15</td>\n",
       "      <td>214.23</td>\n",
       "    </tr>\n",
       "    <tr>\n",
       "      <th>praha</th>\n",
       "      <td>PHA</td>\n",
       "      <td>1 294 513</td>\n",
       "      <td>24</td>\n",
       "      <td>496.00</td>\n",
       "    </tr>\n",
       "  </tbody>\n",
       "</table>\n",
       "</div>"
      ],
      "text/plain": [
       "        kraj   obyvatel  linky  vymera\n",
       "mesto                                 \n",
       "most     ULK     66 644      5   86.94\n",
       "ostrava  MSK    290 450     15  214.23\n",
       "praha    PHA  1 294 513     24  496.00"
      ]
     },
     "execution_count": 14,
     "metadata": {},
     "output_type": "execute_result"
    }
   ],
   "source": [
    "mesta.loc[\"most\":\"praha\":2]"
   ]
  },
  {
   "cell_type": "code",
   "execution_count": 15,
   "metadata": {},
   "outputs": [
    {
     "data": {
      "text/html": [
       "<div>\n",
       "<style scoped>\n",
       "    .dataframe tbody tr th:only-of-type {\n",
       "        vertical-align: middle;\n",
       "    }\n",
       "\n",
       "    .dataframe tbody tr th {\n",
       "        vertical-align: top;\n",
       "    }\n",
       "\n",
       "    .dataframe thead th {\n",
       "        text-align: right;\n",
       "    }\n",
       "</style>\n",
       "<table border=\"1\" class=\"dataframe\">\n",
       "  <thead>\n",
       "    <tr style=\"text-align: right;\">\n",
       "      <th></th>\n",
       "      <th>kraj</th>\n",
       "      <th>obyvatel</th>\n",
       "      <th>linky</th>\n",
       "      <th>vymera</th>\n",
       "    </tr>\n",
       "    <tr>\n",
       "      <th>mesto</th>\n",
       "      <th></th>\n",
       "      <th></th>\n",
       "      <th></th>\n",
       "      <th></th>\n",
       "    </tr>\n",
       "  </thead>\n",
       "  <tbody>\n",
       "    <tr>\n",
       "      <th>brno</th>\n",
       "      <td>JHM</td>\n",
       "      <td>379 527</td>\n",
       "      <td>22</td>\n",
       "      <td>230.22</td>\n",
       "    </tr>\n",
       "    <tr>\n",
       "      <th>liberec</th>\n",
       "      <td>LBK</td>\n",
       "      <td>103 979</td>\n",
       "      <td>6</td>\n",
       "      <td>106.09</td>\n",
       "    </tr>\n",
       "    <tr>\n",
       "      <th>litvinov</th>\n",
       "      <td>ULK</td>\n",
       "      <td>24 143</td>\n",
       "      <td>5</td>\n",
       "      <td>40.70</td>\n",
       "    </tr>\n",
       "    <tr>\n",
       "      <th>most</th>\n",
       "      <td>ULK</td>\n",
       "      <td>66 644</td>\n",
       "      <td>5</td>\n",
       "      <td>86.94</td>\n",
       "    </tr>\n",
       "  </tbody>\n",
       "</table>\n",
       "</div>"
      ],
      "text/plain": [
       "         kraj obyvatel  linky  vymera\n",
       "mesto                                \n",
       "brno      JHM  379 527     22  230.22\n",
       "liberec   LBK  103 979      6  106.09\n",
       "litvinov  ULK   24 143      5   40.70\n",
       "most      ULK   66 644      5   86.94"
      ]
     },
     "execution_count": 15,
     "metadata": {},
     "output_type": "execute_result"
    }
   ],
   "source": [
    "mesta.loc[:\"most\"]"
   ]
  },
  {
   "cell_type": "code",
   "execution_count": 16,
   "metadata": {},
   "outputs": [
    {
     "data": {
      "text/html": [
       "<div>\n",
       "<style scoped>\n",
       "    .dataframe tbody tr th:only-of-type {\n",
       "        vertical-align: middle;\n",
       "    }\n",
       "\n",
       "    .dataframe tbody tr th {\n",
       "        vertical-align: top;\n",
       "    }\n",
       "\n",
       "    .dataframe thead th {\n",
       "        text-align: right;\n",
       "    }\n",
       "</style>\n",
       "<table border=\"1\" class=\"dataframe\">\n",
       "  <thead>\n",
       "    <tr style=\"text-align: right;\">\n",
       "      <th></th>\n",
       "      <th>kraj</th>\n",
       "      <th>obyvatel</th>\n",
       "      <th>linky</th>\n",
       "      <th>vymera</th>\n",
       "    </tr>\n",
       "    <tr>\n",
       "      <th>mesto</th>\n",
       "      <th></th>\n",
       "      <th></th>\n",
       "      <th></th>\n",
       "      <th></th>\n",
       "    </tr>\n",
       "  </thead>\n",
       "  <tbody>\n",
       "    <tr>\n",
       "      <th>most</th>\n",
       "      <td>ULK</td>\n",
       "      <td>66 644</td>\n",
       "      <td>5</td>\n",
       "      <td>86.94</td>\n",
       "    </tr>\n",
       "    <tr>\n",
       "      <th>olomouc</th>\n",
       "      <td>OLK</td>\n",
       "      <td>100 494</td>\n",
       "      <td>7</td>\n",
       "      <td>103.36</td>\n",
       "    </tr>\n",
       "    <tr>\n",
       "      <th>ostrava</th>\n",
       "      <td>MSK</td>\n",
       "      <td>290 450</td>\n",
       "      <td>15</td>\n",
       "      <td>214.23</td>\n",
       "    </tr>\n",
       "    <tr>\n",
       "      <th>plzen</th>\n",
       "      <td>PLK</td>\n",
       "      <td>170 936</td>\n",
       "      <td>3</td>\n",
       "      <td>137.65</td>\n",
       "    </tr>\n",
       "    <tr>\n",
       "      <th>praha</th>\n",
       "      <td>PHA</td>\n",
       "      <td>1 294 513</td>\n",
       "      <td>24</td>\n",
       "      <td>496.00</td>\n",
       "    </tr>\n",
       "  </tbody>\n",
       "</table>\n",
       "</div>"
      ],
      "text/plain": [
       "        kraj   obyvatel  linky  vymera\n",
       "mesto                                 \n",
       "most     ULK     66 644      5   86.94\n",
       "olomouc  OLK    100 494      7  103.36\n",
       "ostrava  MSK    290 450     15  214.23\n",
       "plzen    PLK    170 936      3  137.65\n",
       "praha    PHA  1 294 513     24  496.00"
      ]
     },
     "execution_count": 16,
     "metadata": {},
     "output_type": "execute_result"
    }
   ],
   "source": [
    "mesta.loc[\"most\":]"
   ]
  },
  {
   "cell_type": "markdown",
   "metadata": {},
   "source": [
    "Kdy to dává a kdy naopak nedává smysl?"
   ]
  },
  {
   "cell_type": "markdown",
   "metadata": {},
   "source": [
    "#### 2. Pouze sloupce"
   ]
  },
  {
   "cell_type": "code",
   "execution_count": 17,
   "metadata": {},
   "outputs": [
    {
     "data": {
      "text/plain": [
       "mesto\n",
       "brno        JHM\n",
       "liberec     LBK\n",
       "litvinov    ULK\n",
       "most        ULK\n",
       "olomouc     OLK\n",
       "ostrava     MSK\n",
       "plzen       PLK\n",
       "praha       PHA\n",
       "Name: kraj, dtype: object"
      ]
     },
     "execution_count": 17,
     "metadata": {},
     "output_type": "execute_result"
    }
   ],
   "source": [
    "mesta.loc[:, \"kraj\"]"
   ]
  },
  {
   "cell_type": "code",
   "execution_count": 18,
   "metadata": {},
   "outputs": [
    {
     "data": {
      "text/html": [
       "<div>\n",
       "<style scoped>\n",
       "    .dataframe tbody tr th:only-of-type {\n",
       "        vertical-align: middle;\n",
       "    }\n",
       "\n",
       "    .dataframe tbody tr th {\n",
       "        vertical-align: top;\n",
       "    }\n",
       "\n",
       "    .dataframe thead th {\n",
       "        text-align: right;\n",
       "    }\n",
       "</style>\n",
       "<table border=\"1\" class=\"dataframe\">\n",
       "  <thead>\n",
       "    <tr style=\"text-align: right;\">\n",
       "      <th></th>\n",
       "      <th>kraj</th>\n",
       "      <th>linky</th>\n",
       "    </tr>\n",
       "    <tr>\n",
       "      <th>mesto</th>\n",
       "      <th></th>\n",
       "      <th></th>\n",
       "    </tr>\n",
       "  </thead>\n",
       "  <tbody>\n",
       "    <tr>\n",
       "      <th>brno</th>\n",
       "      <td>JHM</td>\n",
       "      <td>22</td>\n",
       "    </tr>\n",
       "    <tr>\n",
       "      <th>liberec</th>\n",
       "      <td>LBK</td>\n",
       "      <td>6</td>\n",
       "    </tr>\n",
       "    <tr>\n",
       "      <th>litvinov</th>\n",
       "      <td>ULK</td>\n",
       "      <td>5</td>\n",
       "    </tr>\n",
       "    <tr>\n",
       "      <th>most</th>\n",
       "      <td>ULK</td>\n",
       "      <td>5</td>\n",
       "    </tr>\n",
       "    <tr>\n",
       "      <th>olomouc</th>\n",
       "      <td>OLK</td>\n",
       "      <td>7</td>\n",
       "    </tr>\n",
       "    <tr>\n",
       "      <th>ostrava</th>\n",
       "      <td>MSK</td>\n",
       "      <td>15</td>\n",
       "    </tr>\n",
       "    <tr>\n",
       "      <th>plzen</th>\n",
       "      <td>PLK</td>\n",
       "      <td>3</td>\n",
       "    </tr>\n",
       "    <tr>\n",
       "      <th>praha</th>\n",
       "      <td>PHA</td>\n",
       "      <td>24</td>\n",
       "    </tr>\n",
       "  </tbody>\n",
       "</table>\n",
       "</div>"
      ],
      "text/plain": [
       "         kraj  linky\n",
       "mesto               \n",
       "brno      JHM     22\n",
       "liberec   LBK      6\n",
       "litvinov  ULK      5\n",
       "most      ULK      5\n",
       "olomouc   OLK      7\n",
       "ostrava   MSK     15\n",
       "plzen     PLK      3\n",
       "praha     PHA     24"
      ]
     },
     "execution_count": 18,
     "metadata": {},
     "output_type": "execute_result"
    }
   ],
   "source": [
    "mesta.loc[:, [\"kraj\", \"linky\"]]"
   ]
  },
  {
   "cell_type": "markdown",
   "metadata": {},
   "source": [
    "Zkrácený zápis."
   ]
  },
  {
   "cell_type": "code",
   "execution_count": 19,
   "metadata": {},
   "outputs": [
    {
     "data": {
      "text/plain": [
       "mesto\n",
       "brno        JHM\n",
       "liberec     LBK\n",
       "litvinov    ULK\n",
       "most        ULK\n",
       "olomouc     OLK\n",
       "ostrava     MSK\n",
       "plzen       PLK\n",
       "praha       PHA\n",
       "Name: kraj, dtype: object"
      ]
     },
     "execution_count": 19,
     "metadata": {},
     "output_type": "execute_result"
    }
   ],
   "source": [
    "mesta[\"kraj\"]"
   ]
  },
  {
   "cell_type": "code",
   "execution_count": 20,
   "metadata": {},
   "outputs": [
    {
     "data": {
      "text/html": [
       "<div>\n",
       "<style scoped>\n",
       "    .dataframe tbody tr th:only-of-type {\n",
       "        vertical-align: middle;\n",
       "    }\n",
       "\n",
       "    .dataframe tbody tr th {\n",
       "        vertical-align: top;\n",
       "    }\n",
       "\n",
       "    .dataframe thead th {\n",
       "        text-align: right;\n",
       "    }\n",
       "</style>\n",
       "<table border=\"1\" class=\"dataframe\">\n",
       "  <thead>\n",
       "    <tr style=\"text-align: right;\">\n",
       "      <th></th>\n",
       "      <th>kraj</th>\n",
       "      <th>linky</th>\n",
       "    </tr>\n",
       "    <tr>\n",
       "      <th>mesto</th>\n",
       "      <th></th>\n",
       "      <th></th>\n",
       "    </tr>\n",
       "  </thead>\n",
       "  <tbody>\n",
       "    <tr>\n",
       "      <th>brno</th>\n",
       "      <td>JHM</td>\n",
       "      <td>22</td>\n",
       "    </tr>\n",
       "    <tr>\n",
       "      <th>liberec</th>\n",
       "      <td>LBK</td>\n",
       "      <td>6</td>\n",
       "    </tr>\n",
       "    <tr>\n",
       "      <th>litvinov</th>\n",
       "      <td>ULK</td>\n",
       "      <td>5</td>\n",
       "    </tr>\n",
       "    <tr>\n",
       "      <th>most</th>\n",
       "      <td>ULK</td>\n",
       "      <td>5</td>\n",
       "    </tr>\n",
       "    <tr>\n",
       "      <th>olomouc</th>\n",
       "      <td>OLK</td>\n",
       "      <td>7</td>\n",
       "    </tr>\n",
       "    <tr>\n",
       "      <th>ostrava</th>\n",
       "      <td>MSK</td>\n",
       "      <td>15</td>\n",
       "    </tr>\n",
       "    <tr>\n",
       "      <th>plzen</th>\n",
       "      <td>PLK</td>\n",
       "      <td>3</td>\n",
       "    </tr>\n",
       "    <tr>\n",
       "      <th>praha</th>\n",
       "      <td>PHA</td>\n",
       "      <td>24</td>\n",
       "    </tr>\n",
       "  </tbody>\n",
       "</table>\n",
       "</div>"
      ],
      "text/plain": [
       "         kraj  linky\n",
       "mesto               \n",
       "brno      JHM     22\n",
       "liberec   LBK      6\n",
       "litvinov  ULK      5\n",
       "most      ULK      5\n",
       "olomouc   OLK      7\n",
       "ostrava   MSK     15\n",
       "plzen     PLK      3\n",
       "praha     PHA     24"
      ]
     },
     "execution_count": 20,
     "metadata": {},
     "output_type": "execute_result"
    }
   ],
   "source": [
    "mesta[[\"kraj\", \"linky\"]]"
   ]
  },
  {
   "cell_type": "markdown",
   "metadata": {},
   "source": [
    "#### 3. Řádky a sloupce"
   ]
  },
  {
   "cell_type": "code",
   "execution_count": 21,
   "metadata": {},
   "outputs": [
    {
     "data": {
      "text/plain": [
       "3"
      ]
     },
     "execution_count": 21,
     "metadata": {},
     "output_type": "execute_result"
    }
   ],
   "source": [
    "mesta.loc[\"plzen\", \"linky\"]"
   ]
  },
  {
   "cell_type": "code",
   "execution_count": 22,
   "metadata": {},
   "outputs": [
    {
     "data": {
      "text/plain": [
       "mesto\n",
       "most        66 644\n",
       "olomouc    100 494\n",
       "ostrava    290 450\n",
       "plzen      170 936\n",
       "Name: obyvatel, dtype: object"
      ]
     },
     "execution_count": 22,
     "metadata": {},
     "output_type": "execute_result"
    }
   ],
   "source": [
    "mesta.loc[\"most\":\"plzen\", \"obyvatel\"]"
   ]
  },
  {
   "cell_type": "code",
   "execution_count": 23,
   "metadata": {},
   "outputs": [
    {
     "data": {
      "text/html": [
       "<div>\n",
       "<style scoped>\n",
       "    .dataframe tbody tr th:only-of-type {\n",
       "        vertical-align: middle;\n",
       "    }\n",
       "\n",
       "    .dataframe tbody tr th {\n",
       "        vertical-align: top;\n",
       "    }\n",
       "\n",
       "    .dataframe thead th {\n",
       "        text-align: right;\n",
       "    }\n",
       "</style>\n",
       "<table border=\"1\" class=\"dataframe\">\n",
       "  <thead>\n",
       "    <tr style=\"text-align: right;\">\n",
       "      <th></th>\n",
       "      <th>obyvatel</th>\n",
       "      <th>vymera</th>\n",
       "    </tr>\n",
       "    <tr>\n",
       "      <th>mesto</th>\n",
       "      <th></th>\n",
       "      <th></th>\n",
       "    </tr>\n",
       "  </thead>\n",
       "  <tbody>\n",
       "    <tr>\n",
       "      <th>most</th>\n",
       "      <td>66 644</td>\n",
       "      <td>86.94</td>\n",
       "    </tr>\n",
       "    <tr>\n",
       "      <th>brno</th>\n",
       "      <td>379 527</td>\n",
       "      <td>230.22</td>\n",
       "    </tr>\n",
       "    <tr>\n",
       "      <th>praha</th>\n",
       "      <td>1 294 513</td>\n",
       "      <td>496.00</td>\n",
       "    </tr>\n",
       "  </tbody>\n",
       "</table>\n",
       "</div>"
      ],
      "text/plain": [
       "        obyvatel  vymera\n",
       "mesto                   \n",
       "most      66 644   86.94\n",
       "brno     379 527  230.22\n",
       "praha  1 294 513  496.00"
      ]
     },
     "execution_count": 23,
     "metadata": {},
     "output_type": "execute_result"
    }
   ],
   "source": [
    "mesta.loc[[\"most\", \"brno\", \"praha\"], [\"obyvatel\", \"vymera\"]]"
   ]
  },
  {
   "cell_type": "markdown",
   "metadata": {},
   "source": [
    "### Výběr podle pozic řádků a sloupců"
   ]
  },
  {
   "cell_type": "markdown",
   "metadata": {},
   "source": [
    "Pro připomenutí."
   ]
  },
  {
   "cell_type": "code",
   "execution_count": 24,
   "metadata": {},
   "outputs": [
    {
     "data": {
      "text/html": [
       "<div>\n",
       "<style scoped>\n",
       "    .dataframe tbody tr th:only-of-type {\n",
       "        vertical-align: middle;\n",
       "    }\n",
       "\n",
       "    .dataframe tbody tr th {\n",
       "        vertical-align: top;\n",
       "    }\n",
       "\n",
       "    .dataframe thead th {\n",
       "        text-align: right;\n",
       "    }\n",
       "</style>\n",
       "<table border=\"1\" class=\"dataframe\">\n",
       "  <thead>\n",
       "    <tr style=\"text-align: right;\">\n",
       "      <th></th>\n",
       "      <th>kraj</th>\n",
       "      <th>obyvatel</th>\n",
       "      <th>linky</th>\n",
       "      <th>vymera</th>\n",
       "    </tr>\n",
       "    <tr>\n",
       "      <th>mesto</th>\n",
       "      <th></th>\n",
       "      <th></th>\n",
       "      <th></th>\n",
       "      <th></th>\n",
       "    </tr>\n",
       "  </thead>\n",
       "  <tbody>\n",
       "    <tr>\n",
       "      <th>brno</th>\n",
       "      <td>JHM</td>\n",
       "      <td>379 527</td>\n",
       "      <td>22</td>\n",
       "      <td>230.22</td>\n",
       "    </tr>\n",
       "    <tr>\n",
       "      <th>liberec</th>\n",
       "      <td>LBK</td>\n",
       "      <td>103 979</td>\n",
       "      <td>6</td>\n",
       "      <td>106.09</td>\n",
       "    </tr>\n",
       "    <tr>\n",
       "      <th>litvinov</th>\n",
       "      <td>ULK</td>\n",
       "      <td>24 143</td>\n",
       "      <td>5</td>\n",
       "      <td>40.70</td>\n",
       "    </tr>\n",
       "    <tr>\n",
       "      <th>most</th>\n",
       "      <td>ULK</td>\n",
       "      <td>66 644</td>\n",
       "      <td>5</td>\n",
       "      <td>86.94</td>\n",
       "    </tr>\n",
       "    <tr>\n",
       "      <th>olomouc</th>\n",
       "      <td>OLK</td>\n",
       "      <td>100 494</td>\n",
       "      <td>7</td>\n",
       "      <td>103.36</td>\n",
       "    </tr>\n",
       "    <tr>\n",
       "      <th>ostrava</th>\n",
       "      <td>MSK</td>\n",
       "      <td>290 450</td>\n",
       "      <td>15</td>\n",
       "      <td>214.23</td>\n",
       "    </tr>\n",
       "    <tr>\n",
       "      <th>plzen</th>\n",
       "      <td>PLK</td>\n",
       "      <td>170 936</td>\n",
       "      <td>3</td>\n",
       "      <td>137.65</td>\n",
       "    </tr>\n",
       "    <tr>\n",
       "      <th>praha</th>\n",
       "      <td>PHA</td>\n",
       "      <td>1 294 513</td>\n",
       "      <td>24</td>\n",
       "      <td>496.00</td>\n",
       "    </tr>\n",
       "  </tbody>\n",
       "</table>\n",
       "</div>"
      ],
      "text/plain": [
       "         kraj   obyvatel  linky  vymera\n",
       "mesto                                  \n",
       "brno      JHM    379 527     22  230.22\n",
       "liberec   LBK    103 979      6  106.09\n",
       "litvinov  ULK     24 143      5   40.70\n",
       "most      ULK     66 644      5   86.94\n",
       "olomouc   OLK    100 494      7  103.36\n",
       "ostrava   MSK    290 450     15  214.23\n",
       "plzen     PLK    170 936      3  137.65\n",
       "praha     PHA  1 294 513     24  496.00"
      ]
     },
     "execution_count": 24,
     "metadata": {},
     "output_type": "execute_result"
    }
   ],
   "source": [
    "mesta"
   ]
  },
  {
   "cell_type": "code",
   "execution_count": 25,
   "metadata": {},
   "outputs": [
    {
     "data": {
      "text/plain": [
       "kraj           ULK\n",
       "obyvatel    24 143\n",
       "linky            5\n",
       "vymera        40.7\n",
       "Name: litvinov, dtype: object"
      ]
     },
     "execution_count": 25,
     "metadata": {},
     "output_type": "execute_result"
    }
   ],
   "source": [
    "mesta.iloc[2]"
   ]
  },
  {
   "cell_type": "code",
   "execution_count": 26,
   "metadata": {},
   "outputs": [
    {
     "data": {
      "text/html": [
       "<div>\n",
       "<style scoped>\n",
       "    .dataframe tbody tr th:only-of-type {\n",
       "        vertical-align: middle;\n",
       "    }\n",
       "\n",
       "    .dataframe tbody tr th {\n",
       "        vertical-align: top;\n",
       "    }\n",
       "\n",
       "    .dataframe thead th {\n",
       "        text-align: right;\n",
       "    }\n",
       "</style>\n",
       "<table border=\"1\" class=\"dataframe\">\n",
       "  <thead>\n",
       "    <tr style=\"text-align: right;\">\n",
       "      <th></th>\n",
       "      <th>kraj</th>\n",
       "      <th>obyvatel</th>\n",
       "      <th>linky</th>\n",
       "      <th>vymera</th>\n",
       "    </tr>\n",
       "    <tr>\n",
       "      <th>mesto</th>\n",
       "      <th></th>\n",
       "      <th></th>\n",
       "      <th></th>\n",
       "      <th></th>\n",
       "    </tr>\n",
       "  </thead>\n",
       "  <tbody>\n",
       "    <tr>\n",
       "      <th>litvinov</th>\n",
       "      <td>ULK</td>\n",
       "      <td>24 143</td>\n",
       "      <td>5</td>\n",
       "      <td>40.7</td>\n",
       "    </tr>\n",
       "  </tbody>\n",
       "</table>\n",
       "</div>"
      ],
      "text/plain": [
       "         kraj obyvatel  linky  vymera\n",
       "mesto                                \n",
       "litvinov  ULK   24 143      5    40.7"
      ]
     },
     "execution_count": 26,
     "metadata": {},
     "output_type": "execute_result"
    }
   ],
   "source": [
    "mesta.iloc[[2]]"
   ]
  },
  {
   "cell_type": "code",
   "execution_count": 27,
   "metadata": {},
   "outputs": [
    {
     "data": {
      "text/plain": [
       "obyvatel    24 143\n",
       "linky            5\n",
       "vymera        40.7\n",
       "Name: litvinov, dtype: object"
      ]
     },
     "execution_count": 27,
     "metadata": {},
     "output_type": "execute_result"
    }
   ],
   "source": [
    "mesta.iloc[2, 1:]"
   ]
  },
  {
   "cell_type": "code",
   "execution_count": 28,
   "metadata": {},
   "outputs": [
    {
     "data": {
      "text/html": [
       "<div>\n",
       "<style scoped>\n",
       "    .dataframe tbody tr th:only-of-type {\n",
       "        vertical-align: middle;\n",
       "    }\n",
       "\n",
       "    .dataframe tbody tr th {\n",
       "        vertical-align: top;\n",
       "    }\n",
       "\n",
       "    .dataframe thead th {\n",
       "        text-align: right;\n",
       "    }\n",
       "</style>\n",
       "<table border=\"1\" class=\"dataframe\">\n",
       "  <thead>\n",
       "    <tr style=\"text-align: right;\">\n",
       "      <th></th>\n",
       "      <th>kraj</th>\n",
       "      <th>obyvatel</th>\n",
       "    </tr>\n",
       "    <tr>\n",
       "      <th>mesto</th>\n",
       "      <th></th>\n",
       "      <th></th>\n",
       "    </tr>\n",
       "  </thead>\n",
       "  <tbody>\n",
       "    <tr>\n",
       "      <th>litvinov</th>\n",
       "      <td>ULK</td>\n",
       "      <td>24 143</td>\n",
       "    </tr>\n",
       "    <tr>\n",
       "      <th>most</th>\n",
       "      <td>ULK</td>\n",
       "      <td>66 644</td>\n",
       "    </tr>\n",
       "    <tr>\n",
       "      <th>ostrava</th>\n",
       "      <td>MSK</td>\n",
       "      <td>290 450</td>\n",
       "    </tr>\n",
       "  </tbody>\n",
       "</table>\n",
       "</div>"
      ],
      "text/plain": [
       "         kraj obyvatel\n",
       "mesto                 \n",
       "litvinov  ULK   24 143\n",
       "most      ULK   66 644\n",
       "ostrava   MSK  290 450"
      ]
     },
     "execution_count": 28,
     "metadata": {},
     "output_type": "execute_result"
    }
   ],
   "source": [
    "mesta.iloc[[2, 3, 5], [0, 1]]"
   ]
  },
  {
   "cell_type": "markdown",
   "metadata": {},
   "source": [
    "## 3. Ukládání dat"
   ]
  },
  {
   "cell_type": "code",
   "execution_count": 29,
   "metadata": {},
   "outputs": [],
   "source": [
    "mesta.to_csv(\"data.csv\")"
   ]
  },
  {
   "cell_type": "code",
   "execution_count": 30,
   "metadata": {},
   "outputs": [],
   "source": [
    "mesta.to_html(\"data.html\")"
   ]
  },
  {
   "cell_type": "code",
   "execution_count": 31,
   "metadata": {},
   "outputs": [],
   "source": [
    "mesta.to_excel(\"data.xls\")"
   ]
  },
  {
   "cell_type": "code",
   "execution_count": 32,
   "metadata": {},
   "outputs": [],
   "source": [
    "mesta.to_json(\"data.json\", indent=4)"
   ]
  },
  {
   "cell_type": "markdown",
   "metadata": {},
   "source": [
    "## A Cvičení"
   ]
  },
  {
   "cell_type": "code",
   "execution_count": null,
   "metadata": {},
   "outputs": [],
   "source": []
  },
  {
   "cell_type": "markdown",
   "metadata": {},
   "source": [
    "## 4. Index"
   ]
  },
  {
   "cell_type": "markdown",
   "metadata": {},
   "source": [
    "![DataFrame](dataframe.svg)"
   ]
  },
  {
   "cell_type": "code",
   "execution_count": 33,
   "metadata": {},
   "outputs": [
    {
     "data": {
      "text/html": [
       "<div>\n",
       "<style scoped>\n",
       "    .dataframe tbody tr th:only-of-type {\n",
       "        vertical-align: middle;\n",
       "    }\n",
       "\n",
       "    .dataframe tbody tr th {\n",
       "        vertical-align: top;\n",
       "    }\n",
       "\n",
       "    .dataframe thead th {\n",
       "        text-align: right;\n",
       "    }\n",
       "</style>\n",
       "<table border=\"1\" class=\"dataframe\">\n",
       "  <thead>\n",
       "    <tr style=\"text-align: right;\">\n",
       "      <th></th>\n",
       "      <th>mesto</th>\n",
       "      <th>kraj</th>\n",
       "      <th>obyvatel</th>\n",
       "      <th>linky</th>\n",
       "      <th>vymera</th>\n",
       "    </tr>\n",
       "  </thead>\n",
       "  <tbody>\n",
       "    <tr>\n",
       "      <th>0</th>\n",
       "      <td>brno</td>\n",
       "      <td>JHM</td>\n",
       "      <td>379 527</td>\n",
       "      <td>22</td>\n",
       "      <td>230.22</td>\n",
       "    </tr>\n",
       "    <tr>\n",
       "      <th>1</th>\n",
       "      <td>liberec</td>\n",
       "      <td>LBK</td>\n",
       "      <td>103 979</td>\n",
       "      <td>6</td>\n",
       "      <td>106.09</td>\n",
       "    </tr>\n",
       "    <tr>\n",
       "      <th>2</th>\n",
       "      <td>litvinov</td>\n",
       "      <td>ULK</td>\n",
       "      <td>24 143</td>\n",
       "      <td>5</td>\n",
       "      <td>40.70</td>\n",
       "    </tr>\n",
       "    <tr>\n",
       "      <th>3</th>\n",
       "      <td>most</td>\n",
       "      <td>ULK</td>\n",
       "      <td>66 644</td>\n",
       "      <td>5</td>\n",
       "      <td>86.94</td>\n",
       "    </tr>\n",
       "    <tr>\n",
       "      <th>4</th>\n",
       "      <td>olomouc</td>\n",
       "      <td>OLK</td>\n",
       "      <td>100 494</td>\n",
       "      <td>7</td>\n",
       "      <td>103.36</td>\n",
       "    </tr>\n",
       "    <tr>\n",
       "      <th>5</th>\n",
       "      <td>ostrava</td>\n",
       "      <td>MSK</td>\n",
       "      <td>290 450</td>\n",
       "      <td>15</td>\n",
       "      <td>214.23</td>\n",
       "    </tr>\n",
       "    <tr>\n",
       "      <th>6</th>\n",
       "      <td>plzen</td>\n",
       "      <td>PLK</td>\n",
       "      <td>170 936</td>\n",
       "      <td>3</td>\n",
       "      <td>137.65</td>\n",
       "    </tr>\n",
       "    <tr>\n",
       "      <th>7</th>\n",
       "      <td>praha</td>\n",
       "      <td>PHA</td>\n",
       "      <td>1 294 513</td>\n",
       "      <td>24</td>\n",
       "      <td>496.00</td>\n",
       "    </tr>\n",
       "  </tbody>\n",
       "</table>\n",
       "</div>"
      ],
      "text/plain": [
       "      mesto kraj   obyvatel  linky  vymera\n",
       "0      brno  JHM    379 527     22  230.22\n",
       "1   liberec  LBK    103 979      6  106.09\n",
       "2  litvinov  ULK     24 143      5   40.70\n",
       "3      most  ULK     66 644      5   86.94\n",
       "4   olomouc  OLK    100 494      7  103.36\n",
       "5   ostrava  MSK    290 450     15  214.23\n",
       "6     plzen  PLK    170 936      3  137.65\n",
       "7     praha  PHA  1 294 513     24  496.00"
      ]
     },
     "execution_count": 33,
     "metadata": {},
     "output_type": "execute_result"
    }
   ],
   "source": [
    "mesta = pandas.read_csv('mesta.csv', encoding='utf-8')\n",
    "mesta"
   ]
  },
  {
   "cell_type": "markdown",
   "metadata": {},
   "source": [
    "Index je teď číselný. Přístup pomocí názvu řádků (`loc`) nebo pomocí jejich čísel (`iloc`) je teď velmi podobný. Jediný rozdíl je v indexování rozsahem."
   ]
  },
  {
   "cell_type": "code",
   "execution_count": 34,
   "metadata": {},
   "outputs": [
    {
     "data": {
      "text/html": [
       "<div>\n",
       "<style scoped>\n",
       "    .dataframe tbody tr th:only-of-type {\n",
       "        vertical-align: middle;\n",
       "    }\n",
       "\n",
       "    .dataframe tbody tr th {\n",
       "        vertical-align: top;\n",
       "    }\n",
       "\n",
       "    .dataframe thead th {\n",
       "        text-align: right;\n",
       "    }\n",
       "</style>\n",
       "<table border=\"1\" class=\"dataframe\">\n",
       "  <thead>\n",
       "    <tr style=\"text-align: right;\">\n",
       "      <th></th>\n",
       "      <th>mesto</th>\n",
       "      <th>kraj</th>\n",
       "      <th>obyvatel</th>\n",
       "      <th>linky</th>\n",
       "      <th>vymera</th>\n",
       "    </tr>\n",
       "  </thead>\n",
       "  <tbody>\n",
       "    <tr>\n",
       "      <th>0</th>\n",
       "      <td>brno</td>\n",
       "      <td>JHM</td>\n",
       "      <td>379 527</td>\n",
       "      <td>22</td>\n",
       "      <td>230.22</td>\n",
       "    </tr>\n",
       "    <tr>\n",
       "      <th>1</th>\n",
       "      <td>liberec</td>\n",
       "      <td>LBK</td>\n",
       "      <td>103 979</td>\n",
       "      <td>6</td>\n",
       "      <td>106.09</td>\n",
       "    </tr>\n",
       "    <tr>\n",
       "      <th>2</th>\n",
       "      <td>litvinov</td>\n",
       "      <td>ULK</td>\n",
       "      <td>24 143</td>\n",
       "      <td>5</td>\n",
       "      <td>40.70</td>\n",
       "    </tr>\n",
       "    <tr>\n",
       "      <th>3</th>\n",
       "      <td>most</td>\n",
       "      <td>ULK</td>\n",
       "      <td>66 644</td>\n",
       "      <td>5</td>\n",
       "      <td>86.94</td>\n",
       "    </tr>\n",
       "    <tr>\n",
       "      <th>4</th>\n",
       "      <td>olomouc</td>\n",
       "      <td>OLK</td>\n",
       "      <td>100 494</td>\n",
       "      <td>7</td>\n",
       "      <td>103.36</td>\n",
       "    </tr>\n",
       "  </tbody>\n",
       "</table>\n",
       "</div>"
      ],
      "text/plain": [
       "      mesto kraj obyvatel  linky  vymera\n",
       "0      brno  JHM  379 527     22  230.22\n",
       "1   liberec  LBK  103 979      6  106.09\n",
       "2  litvinov  ULK   24 143      5   40.70\n",
       "3      most  ULK   66 644      5   86.94\n",
       "4   olomouc  OLK  100 494      7  103.36"
      ]
     },
     "execution_count": 34,
     "metadata": {},
     "output_type": "execute_result"
    }
   ],
   "source": [
    "mesta.loc[:4]"
   ]
  },
  {
   "cell_type": "code",
   "execution_count": 35,
   "metadata": {},
   "outputs": [
    {
     "data": {
      "text/html": [
       "<div>\n",
       "<style scoped>\n",
       "    .dataframe tbody tr th:only-of-type {\n",
       "        vertical-align: middle;\n",
       "    }\n",
       "\n",
       "    .dataframe tbody tr th {\n",
       "        vertical-align: top;\n",
       "    }\n",
       "\n",
       "    .dataframe thead th {\n",
       "        text-align: right;\n",
       "    }\n",
       "</style>\n",
       "<table border=\"1\" class=\"dataframe\">\n",
       "  <thead>\n",
       "    <tr style=\"text-align: right;\">\n",
       "      <th></th>\n",
       "      <th>mesto</th>\n",
       "      <th>kraj</th>\n",
       "      <th>obyvatel</th>\n",
       "      <th>linky</th>\n",
       "      <th>vymera</th>\n",
       "    </tr>\n",
       "  </thead>\n",
       "  <tbody>\n",
       "    <tr>\n",
       "      <th>0</th>\n",
       "      <td>brno</td>\n",
       "      <td>JHM</td>\n",
       "      <td>379 527</td>\n",
       "      <td>22</td>\n",
       "      <td>230.22</td>\n",
       "    </tr>\n",
       "    <tr>\n",
       "      <th>1</th>\n",
       "      <td>liberec</td>\n",
       "      <td>LBK</td>\n",
       "      <td>103 979</td>\n",
       "      <td>6</td>\n",
       "      <td>106.09</td>\n",
       "    </tr>\n",
       "    <tr>\n",
       "      <th>2</th>\n",
       "      <td>litvinov</td>\n",
       "      <td>ULK</td>\n",
       "      <td>24 143</td>\n",
       "      <td>5</td>\n",
       "      <td>40.70</td>\n",
       "    </tr>\n",
       "    <tr>\n",
       "      <th>3</th>\n",
       "      <td>most</td>\n",
       "      <td>ULK</td>\n",
       "      <td>66 644</td>\n",
       "      <td>5</td>\n",
       "      <td>86.94</td>\n",
       "    </tr>\n",
       "  </tbody>\n",
       "</table>\n",
       "</div>"
      ],
      "text/plain": [
       "      mesto kraj obyvatel  linky  vymera\n",
       "0      brno  JHM  379 527     22  230.22\n",
       "1   liberec  LBK  103 979      6  106.09\n",
       "2  litvinov  ULK   24 143      5   40.70\n",
       "3      most  ULK   66 644      5   86.94"
      ]
     },
     "execution_count": 35,
     "metadata": {},
     "output_type": "execute_result"
    }
   ],
   "source": [
    "mesta.iloc[:4]"
   ]
  },
  {
   "cell_type": "markdown",
   "metadata": {},
   "source": [
    "Index můžeme manuálně nastavit na jeden ze sloupců. Ten potom zmizí z datové části, a přesune se do pozice indexu."
   ]
  },
  {
   "cell_type": "code",
   "execution_count": 36,
   "metadata": {},
   "outputs": [
    {
     "data": {
      "text/html": [
       "<div>\n",
       "<style scoped>\n",
       "    .dataframe tbody tr th:only-of-type {\n",
       "        vertical-align: middle;\n",
       "    }\n",
       "\n",
       "    .dataframe tbody tr th {\n",
       "        vertical-align: top;\n",
       "    }\n",
       "\n",
       "    .dataframe thead th {\n",
       "        text-align: right;\n",
       "    }\n",
       "</style>\n",
       "<table border=\"1\" class=\"dataframe\">\n",
       "  <thead>\n",
       "    <tr style=\"text-align: right;\">\n",
       "      <th></th>\n",
       "      <th>kraj</th>\n",
       "      <th>obyvatel</th>\n",
       "      <th>linky</th>\n",
       "      <th>vymera</th>\n",
       "    </tr>\n",
       "    <tr>\n",
       "      <th>mesto</th>\n",
       "      <th></th>\n",
       "      <th></th>\n",
       "      <th></th>\n",
       "      <th></th>\n",
       "    </tr>\n",
       "  </thead>\n",
       "  <tbody>\n",
       "    <tr>\n",
       "      <th>brno</th>\n",
       "      <td>JHM</td>\n",
       "      <td>379 527</td>\n",
       "      <td>22</td>\n",
       "      <td>230.22</td>\n",
       "    </tr>\n",
       "    <tr>\n",
       "      <th>liberec</th>\n",
       "      <td>LBK</td>\n",
       "      <td>103 979</td>\n",
       "      <td>6</td>\n",
       "      <td>106.09</td>\n",
       "    </tr>\n",
       "    <tr>\n",
       "      <th>litvinov</th>\n",
       "      <td>ULK</td>\n",
       "      <td>24 143</td>\n",
       "      <td>5</td>\n",
       "      <td>40.70</td>\n",
       "    </tr>\n",
       "    <tr>\n",
       "      <th>most</th>\n",
       "      <td>ULK</td>\n",
       "      <td>66 644</td>\n",
       "      <td>5</td>\n",
       "      <td>86.94</td>\n",
       "    </tr>\n",
       "    <tr>\n",
       "      <th>olomouc</th>\n",
       "      <td>OLK</td>\n",
       "      <td>100 494</td>\n",
       "      <td>7</td>\n",
       "      <td>103.36</td>\n",
       "    </tr>\n",
       "    <tr>\n",
       "      <th>ostrava</th>\n",
       "      <td>MSK</td>\n",
       "      <td>290 450</td>\n",
       "      <td>15</td>\n",
       "      <td>214.23</td>\n",
       "    </tr>\n",
       "    <tr>\n",
       "      <th>plzen</th>\n",
       "      <td>PLK</td>\n",
       "      <td>170 936</td>\n",
       "      <td>3</td>\n",
       "      <td>137.65</td>\n",
       "    </tr>\n",
       "    <tr>\n",
       "      <th>praha</th>\n",
       "      <td>PHA</td>\n",
       "      <td>1 294 513</td>\n",
       "      <td>24</td>\n",
       "      <td>496.00</td>\n",
       "    </tr>\n",
       "  </tbody>\n",
       "</table>\n",
       "</div>"
      ],
      "text/plain": [
       "         kraj   obyvatel  linky  vymera\n",
       "mesto                                  \n",
       "brno      JHM    379 527     22  230.22\n",
       "liberec   LBK    103 979      6  106.09\n",
       "litvinov  ULK     24 143      5   40.70\n",
       "most      ULK     66 644      5   86.94\n",
       "olomouc   OLK    100 494      7  103.36\n",
       "ostrava   MSK    290 450     15  214.23\n",
       "plzen     PLK    170 936      3  137.65\n",
       "praha     PHA  1 294 513     24  496.00"
      ]
     },
     "execution_count": 36,
     "metadata": {},
     "output_type": "execute_result"
    }
   ],
   "source": [
    "mesta.set_index(\"mesto\")"
   ]
  },
  {
   "cell_type": "markdown",
   "metadata": {},
   "source": [
    "## 5. Dotazy jako v SQL"
   ]
  },
  {
   "cell_type": "markdown",
   "metadata": {},
   "source": [
    "Srovnáním DataFrame s tabulkou podobnost s databázemi nekončí. Pandas umožňují dotazovat se nad daty podobným způsobem jako SQL."
   ]
  },
  {
   "cell_type": "code",
   "execution_count": 37,
   "metadata": {},
   "outputs": [
    {
     "data": {
      "text/html": [
       "<div>\n",
       "<style scoped>\n",
       "    .dataframe tbody tr th:only-of-type {\n",
       "        vertical-align: middle;\n",
       "    }\n",
       "\n",
       "    .dataframe tbody tr th {\n",
       "        vertical-align: top;\n",
       "    }\n",
       "\n",
       "    .dataframe thead th {\n",
       "        text-align: right;\n",
       "    }\n",
       "</style>\n",
       "<table border=\"1\" class=\"dataframe\">\n",
       "  <thead>\n",
       "    <tr style=\"text-align: right;\">\n",
       "      <th></th>\n",
       "      <th>kraj</th>\n",
       "      <th>obyvatel</th>\n",
       "      <th>linky</th>\n",
       "      <th>vymera</th>\n",
       "    </tr>\n",
       "    <tr>\n",
       "      <th>mesto</th>\n",
       "      <th></th>\n",
       "      <th></th>\n",
       "      <th></th>\n",
       "      <th></th>\n",
       "    </tr>\n",
       "  </thead>\n",
       "  <tbody>\n",
       "    <tr>\n",
       "      <th>brno</th>\n",
       "      <td>JHM</td>\n",
       "      <td>379 527</td>\n",
       "      <td>22</td>\n",
       "      <td>230.22</td>\n",
       "    </tr>\n",
       "    <tr>\n",
       "      <th>liberec</th>\n",
       "      <td>LBK</td>\n",
       "      <td>103 979</td>\n",
       "      <td>6</td>\n",
       "      <td>106.09</td>\n",
       "    </tr>\n",
       "    <tr>\n",
       "      <th>litvinov</th>\n",
       "      <td>ULK</td>\n",
       "      <td>24 143</td>\n",
       "      <td>5</td>\n",
       "      <td>40.70</td>\n",
       "    </tr>\n",
       "    <tr>\n",
       "      <th>most</th>\n",
       "      <td>ULK</td>\n",
       "      <td>66 644</td>\n",
       "      <td>5</td>\n",
       "      <td>86.94</td>\n",
       "    </tr>\n",
       "    <tr>\n",
       "      <th>olomouc</th>\n",
       "      <td>OLK</td>\n",
       "      <td>100 494</td>\n",
       "      <td>7</td>\n",
       "      <td>103.36</td>\n",
       "    </tr>\n",
       "    <tr>\n",
       "      <th>ostrava</th>\n",
       "      <td>MSK</td>\n",
       "      <td>290 450</td>\n",
       "      <td>15</td>\n",
       "      <td>214.23</td>\n",
       "    </tr>\n",
       "    <tr>\n",
       "      <th>plzen</th>\n",
       "      <td>PLK</td>\n",
       "      <td>170 936</td>\n",
       "      <td>3</td>\n",
       "      <td>137.65</td>\n",
       "    </tr>\n",
       "    <tr>\n",
       "      <th>praha</th>\n",
       "      <td>PHA</td>\n",
       "      <td>1 294 513</td>\n",
       "      <td>24</td>\n",
       "      <td>496.00</td>\n",
       "    </tr>\n",
       "  </tbody>\n",
       "</table>\n",
       "</div>"
      ],
      "text/plain": [
       "         kraj   obyvatel  linky  vymera\n",
       "mesto                                  \n",
       "brno      JHM    379 527     22  230.22\n",
       "liberec   LBK    103 979      6  106.09\n",
       "litvinov  ULK     24 143      5   40.70\n",
       "most      ULK     66 644      5   86.94\n",
       "olomouc   OLK    100 494      7  103.36\n",
       "ostrava   MSK    290 450     15  214.23\n",
       "plzen     PLK    170 936      3  137.65\n",
       "praha     PHA  1 294 513     24  496.00"
      ]
     },
     "execution_count": 37,
     "metadata": {},
     "output_type": "execute_result"
    }
   ],
   "source": [
    "mesta = pandas.read_csv(\"mesta.csv\", index_col=\"mesto\", encoding=\"utf-8\")\n",
    "mesta"
   ]
  },
  {
   "cell_type": "markdown",
   "metadata": {},
   "source": [
    "### Výběr sloupečků"
   ]
  },
  {
   "cell_type": "markdown",
   "metadata": {},
   "source": [
    "**SQL:** `SELECT linky, obyvatel FROM mesta;`"
   ]
  },
  {
   "cell_type": "code",
   "execution_count": 38,
   "metadata": {},
   "outputs": [
    {
     "data": {
      "text/html": [
       "<div>\n",
       "<style scoped>\n",
       "    .dataframe tbody tr th:only-of-type {\n",
       "        vertical-align: middle;\n",
       "    }\n",
       "\n",
       "    .dataframe tbody tr th {\n",
       "        vertical-align: top;\n",
       "    }\n",
       "\n",
       "    .dataframe thead th {\n",
       "        text-align: right;\n",
       "    }\n",
       "</style>\n",
       "<table border=\"1\" class=\"dataframe\">\n",
       "  <thead>\n",
       "    <tr style=\"text-align: right;\">\n",
       "      <th></th>\n",
       "      <th>linky</th>\n",
       "      <th>obyvatel</th>\n",
       "    </tr>\n",
       "    <tr>\n",
       "      <th>mesto</th>\n",
       "      <th></th>\n",
       "      <th></th>\n",
       "    </tr>\n",
       "  </thead>\n",
       "  <tbody>\n",
       "    <tr>\n",
       "      <th>brno</th>\n",
       "      <td>22</td>\n",
       "      <td>379 527</td>\n",
       "    </tr>\n",
       "    <tr>\n",
       "      <th>liberec</th>\n",
       "      <td>6</td>\n",
       "      <td>103 979</td>\n",
       "    </tr>\n",
       "    <tr>\n",
       "      <th>litvinov</th>\n",
       "      <td>5</td>\n",
       "      <td>24 143</td>\n",
       "    </tr>\n",
       "    <tr>\n",
       "      <th>most</th>\n",
       "      <td>5</td>\n",
       "      <td>66 644</td>\n",
       "    </tr>\n",
       "    <tr>\n",
       "      <th>olomouc</th>\n",
       "      <td>7</td>\n",
       "      <td>100 494</td>\n",
       "    </tr>\n",
       "    <tr>\n",
       "      <th>ostrava</th>\n",
       "      <td>15</td>\n",
       "      <td>290 450</td>\n",
       "    </tr>\n",
       "    <tr>\n",
       "      <th>plzen</th>\n",
       "      <td>3</td>\n",
       "      <td>170 936</td>\n",
       "    </tr>\n",
       "    <tr>\n",
       "      <th>praha</th>\n",
       "      <td>24</td>\n",
       "      <td>1 294 513</td>\n",
       "    </tr>\n",
       "  </tbody>\n",
       "</table>\n",
       "</div>"
      ],
      "text/plain": [
       "          linky   obyvatel\n",
       "mesto                     \n",
       "brno         22    379 527\n",
       "liberec       6    103 979\n",
       "litvinov      5     24 143\n",
       "most          5     66 644\n",
       "olomouc       7    100 494\n",
       "ostrava      15    290 450\n",
       "plzen         3    170 936\n",
       "praha        24  1 294 513"
      ]
     },
     "execution_count": 38,
     "metadata": {},
     "output_type": "execute_result"
    }
   ],
   "source": [
    "mesta[[\"linky\", \"obyvatel\"]]"
   ]
  },
  {
   "cell_type": "markdown",
   "metadata": {},
   "source": [
    "### Podmínky"
   ]
  },
  {
   "cell_type": "markdown",
   "metadata": {},
   "source": [
    "**SQL:** `SELECT * FROM mesta WHERE linky > 10;`"
   ]
  },
  {
   "cell_type": "code",
   "execution_count": 39,
   "metadata": {},
   "outputs": [
    {
     "data": {
      "text/html": [
       "<div>\n",
       "<style scoped>\n",
       "    .dataframe tbody tr th:only-of-type {\n",
       "        vertical-align: middle;\n",
       "    }\n",
       "\n",
       "    .dataframe tbody tr th {\n",
       "        vertical-align: top;\n",
       "    }\n",
       "\n",
       "    .dataframe thead th {\n",
       "        text-align: right;\n",
       "    }\n",
       "</style>\n",
       "<table border=\"1\" class=\"dataframe\">\n",
       "  <thead>\n",
       "    <tr style=\"text-align: right;\">\n",
       "      <th></th>\n",
       "      <th>kraj</th>\n",
       "      <th>obyvatel</th>\n",
       "      <th>linky</th>\n",
       "      <th>vymera</th>\n",
       "    </tr>\n",
       "    <tr>\n",
       "      <th>mesto</th>\n",
       "      <th></th>\n",
       "      <th></th>\n",
       "      <th></th>\n",
       "      <th></th>\n",
       "    </tr>\n",
       "  </thead>\n",
       "  <tbody>\n",
       "    <tr>\n",
       "      <th>brno</th>\n",
       "      <td>JHM</td>\n",
       "      <td>379 527</td>\n",
       "      <td>22</td>\n",
       "      <td>230.22</td>\n",
       "    </tr>\n",
       "    <tr>\n",
       "      <th>ostrava</th>\n",
       "      <td>MSK</td>\n",
       "      <td>290 450</td>\n",
       "      <td>15</td>\n",
       "      <td>214.23</td>\n",
       "    </tr>\n",
       "    <tr>\n",
       "      <th>praha</th>\n",
       "      <td>PHA</td>\n",
       "      <td>1 294 513</td>\n",
       "      <td>24</td>\n",
       "      <td>496.00</td>\n",
       "    </tr>\n",
       "  </tbody>\n",
       "</table>\n",
       "</div>"
      ],
      "text/plain": [
       "        kraj   obyvatel  linky  vymera\n",
       "mesto                                 \n",
       "brno     JHM    379 527     22  230.22\n",
       "ostrava  MSK    290 450     15  214.23\n",
       "praha    PHA  1 294 513     24  496.00"
      ]
     },
     "execution_count": 39,
     "metadata": {},
     "output_type": "execute_result"
    }
   ],
   "source": [
    "mesta[mesta[\"linky\"] > 10]"
   ]
  },
  {
   "cell_type": "markdown",
   "metadata": {},
   "source": [
    "**SQL:** `SELECT kraj, vymera FROM mesta WHERE vymera >= 100 AND vymera <= 200;`"
   ]
  },
  {
   "cell_type": "code",
   "execution_count": 40,
   "metadata": {},
   "outputs": [
    {
     "data": {
      "text/html": [
       "<div>\n",
       "<style scoped>\n",
       "    .dataframe tbody tr th:only-of-type {\n",
       "        vertical-align: middle;\n",
       "    }\n",
       "\n",
       "    .dataframe tbody tr th {\n",
       "        vertical-align: top;\n",
       "    }\n",
       "\n",
       "    .dataframe thead th {\n",
       "        text-align: right;\n",
       "    }\n",
       "</style>\n",
       "<table border=\"1\" class=\"dataframe\">\n",
       "  <thead>\n",
       "    <tr style=\"text-align: right;\">\n",
       "      <th></th>\n",
       "      <th>kraj</th>\n",
       "      <th>vymera</th>\n",
       "    </tr>\n",
       "    <tr>\n",
       "      <th>mesto</th>\n",
       "      <th></th>\n",
       "      <th></th>\n",
       "    </tr>\n",
       "  </thead>\n",
       "  <tbody>\n",
       "    <tr>\n",
       "      <th>liberec</th>\n",
       "      <td>LBK</td>\n",
       "      <td>106.09</td>\n",
       "    </tr>\n",
       "    <tr>\n",
       "      <th>olomouc</th>\n",
       "      <td>OLK</td>\n",
       "      <td>103.36</td>\n",
       "    </tr>\n",
       "    <tr>\n",
       "      <th>plzen</th>\n",
       "      <td>PLK</td>\n",
       "      <td>137.65</td>\n",
       "    </tr>\n",
       "  </tbody>\n",
       "</table>\n",
       "</div>"
      ],
      "text/plain": [
       "        kraj  vymera\n",
       "mesto               \n",
       "liberec  LBK  106.09\n",
       "olomouc  OLK  103.36\n",
       "plzen    PLK  137.65"
      ]
     },
     "execution_count": 40,
     "metadata": {},
     "output_type": "execute_result"
    }
   ],
   "source": [
    "mesta[(mesta[\"vymera\"] >= 100) & (mesta[\"vymera\"] <= 200)][[\"kraj\", \"vymera\"]]"
   ]
  },
  {
   "cell_type": "code",
   "execution_count": 41,
   "metadata": {},
   "outputs": [
    {
     "data": {
      "text/html": [
       "<div>\n",
       "<style scoped>\n",
       "    .dataframe tbody tr th:only-of-type {\n",
       "        vertical-align: middle;\n",
       "    }\n",
       "\n",
       "    .dataframe tbody tr th {\n",
       "        vertical-align: top;\n",
       "    }\n",
       "\n",
       "    .dataframe thead th {\n",
       "        text-align: right;\n",
       "    }\n",
       "</style>\n",
       "<table border=\"1\" class=\"dataframe\">\n",
       "  <thead>\n",
       "    <tr style=\"text-align: right;\">\n",
       "      <th></th>\n",
       "      <th>kraj</th>\n",
       "      <th>vymera</th>\n",
       "    </tr>\n",
       "    <tr>\n",
       "      <th>mesto</th>\n",
       "      <th></th>\n",
       "      <th></th>\n",
       "    </tr>\n",
       "  </thead>\n",
       "  <tbody>\n",
       "    <tr>\n",
       "      <th>liberec</th>\n",
       "      <td>LBK</td>\n",
       "      <td>106.09</td>\n",
       "    </tr>\n",
       "    <tr>\n",
       "      <th>olomouc</th>\n",
       "      <td>OLK</td>\n",
       "      <td>103.36</td>\n",
       "    </tr>\n",
       "    <tr>\n",
       "      <th>plzen</th>\n",
       "      <td>PLK</td>\n",
       "      <td>137.65</td>\n",
       "    </tr>\n",
       "  </tbody>\n",
       "</table>\n",
       "</div>"
      ],
      "text/plain": [
       "        kraj  vymera\n",
       "mesto               \n",
       "liberec  LBK  106.09\n",
       "olomouc  OLK  103.36\n",
       "plzen    PLK  137.65"
      ]
     },
     "execution_count": 41,
     "metadata": {},
     "output_type": "execute_result"
    }
   ],
   "source": [
    "mesta.loc[(mesta['vymera'] >= 100) & (mesta['vymera'] <= 200), [\"kraj\", \"vymera\"]]"
   ]
  },
  {
   "cell_type": "markdown",
   "metadata": {},
   "source": [
    "### Logické operátory v podmínkách"
   ]
  },
  {
   "cell_type": "markdown",
   "metadata": {},
   "source": [
    "**SQL:** `SELECT linky FROM mesta WHERE kraj = 'JHM' OR kraj = 'OLK';`"
   ]
  },
  {
   "cell_type": "code",
   "execution_count": 42,
   "metadata": {},
   "outputs": [
    {
     "data": {
      "text/html": [
       "<div>\n",
       "<style scoped>\n",
       "    .dataframe tbody tr th:only-of-type {\n",
       "        vertical-align: middle;\n",
       "    }\n",
       "\n",
       "    .dataframe tbody tr th {\n",
       "        vertical-align: top;\n",
       "    }\n",
       "\n",
       "    .dataframe thead th {\n",
       "        text-align: right;\n",
       "    }\n",
       "</style>\n",
       "<table border=\"1\" class=\"dataframe\">\n",
       "  <thead>\n",
       "    <tr style=\"text-align: right;\">\n",
       "      <th></th>\n",
       "      <th>linky</th>\n",
       "    </tr>\n",
       "    <tr>\n",
       "      <th>mesto</th>\n",
       "      <th></th>\n",
       "    </tr>\n",
       "  </thead>\n",
       "  <tbody>\n",
       "    <tr>\n",
       "      <th>brno</th>\n",
       "      <td>22</td>\n",
       "    </tr>\n",
       "    <tr>\n",
       "      <th>olomouc</th>\n",
       "      <td>7</td>\n",
       "    </tr>\n",
       "  </tbody>\n",
       "</table>\n",
       "</div>"
      ],
      "text/plain": [
       "         linky\n",
       "mesto         \n",
       "brno        22\n",
       "olomouc      7"
      ]
     },
     "execution_count": 42,
     "metadata": {},
     "output_type": "execute_result"
    }
   ],
   "source": [
    "mesta[(mesta['kraj'] == 'JHM') | (mesta['kraj'] == 'OLK')][['linky']]"
   ]
  },
  {
   "cell_type": "markdown",
   "metadata": {},
   "source": [
    "**SQL:** `SELECT linky FROM mesta WHERE kraj IN ('JHM', 'ULK', 'OLK');`"
   ]
  },
  {
   "cell_type": "code",
   "execution_count": 43,
   "metadata": {},
   "outputs": [
    {
     "data": {
      "text/html": [
       "<div>\n",
       "<style scoped>\n",
       "    .dataframe tbody tr th:only-of-type {\n",
       "        vertical-align: middle;\n",
       "    }\n",
       "\n",
       "    .dataframe tbody tr th {\n",
       "        vertical-align: top;\n",
       "    }\n",
       "\n",
       "    .dataframe thead th {\n",
       "        text-align: right;\n",
       "    }\n",
       "</style>\n",
       "<table border=\"1\" class=\"dataframe\">\n",
       "  <thead>\n",
       "    <tr style=\"text-align: right;\">\n",
       "      <th></th>\n",
       "      <th>linky</th>\n",
       "    </tr>\n",
       "    <tr>\n",
       "      <th>mesto</th>\n",
       "      <th></th>\n",
       "    </tr>\n",
       "  </thead>\n",
       "  <tbody>\n",
       "    <tr>\n",
       "      <th>brno</th>\n",
       "      <td>22</td>\n",
       "    </tr>\n",
       "    <tr>\n",
       "      <th>litvinov</th>\n",
       "      <td>5</td>\n",
       "    </tr>\n",
       "    <tr>\n",
       "      <th>most</th>\n",
       "      <td>5</td>\n",
       "    </tr>\n",
       "    <tr>\n",
       "      <th>olomouc</th>\n",
       "      <td>7</td>\n",
       "    </tr>\n",
       "  </tbody>\n",
       "</table>\n",
       "</div>"
      ],
      "text/plain": [
       "          linky\n",
       "mesto          \n",
       "brno         22\n",
       "litvinov      5\n",
       "most          5\n",
       "olomouc       7"
      ]
     },
     "execution_count": 43,
     "metadata": {},
     "output_type": "execute_result"
    }
   ],
   "source": [
    "mesta[mesta['kraj'].isin(['JHM', 'ULK', 'OLK'])][['linky']]"
   ]
  },
  {
   "cell_type": "markdown",
   "metadata": {},
   "source": [
    "**SQL:** `SELECT linky FROM mesta WHERE kraj NOT IN ('JHM', 'ULK', 'OLK');`"
   ]
  },
  {
   "cell_type": "code",
   "execution_count": 44,
   "metadata": {},
   "outputs": [
    {
     "data": {
      "text/html": [
       "<div>\n",
       "<style scoped>\n",
       "    .dataframe tbody tr th:only-of-type {\n",
       "        vertical-align: middle;\n",
       "    }\n",
       "\n",
       "    .dataframe tbody tr th {\n",
       "        vertical-align: top;\n",
       "    }\n",
       "\n",
       "    .dataframe thead th {\n",
       "        text-align: right;\n",
       "    }\n",
       "</style>\n",
       "<table border=\"1\" class=\"dataframe\">\n",
       "  <thead>\n",
       "    <tr style=\"text-align: right;\">\n",
       "      <th></th>\n",
       "      <th>linky</th>\n",
       "    </tr>\n",
       "    <tr>\n",
       "      <th>mesto</th>\n",
       "      <th></th>\n",
       "    </tr>\n",
       "  </thead>\n",
       "  <tbody>\n",
       "    <tr>\n",
       "      <th>liberec</th>\n",
       "      <td>6</td>\n",
       "    </tr>\n",
       "    <tr>\n",
       "      <th>ostrava</th>\n",
       "      <td>15</td>\n",
       "    </tr>\n",
       "    <tr>\n",
       "      <th>plzen</th>\n",
       "      <td>3</td>\n",
       "    </tr>\n",
       "    <tr>\n",
       "      <th>praha</th>\n",
       "      <td>24</td>\n",
       "    </tr>\n",
       "  </tbody>\n",
       "</table>\n",
       "</div>"
      ],
      "text/plain": [
       "         linky\n",
       "mesto         \n",
       "liberec      6\n",
       "ostrava     15\n",
       "plzen        3\n",
       "praha       24"
      ]
     },
     "execution_count": 44,
     "metadata": {},
     "output_type": "execute_result"
    }
   ],
   "source": [
    "mesta[~mesta['kraj'].isin(['JHM', 'ULK', 'OLK'])][['linky']]"
   ]
  },
  {
   "cell_type": "markdown",
   "metadata": {},
   "source": [
    "## 6. Převod mezi DataFrame a seznamy"
   ]
  },
  {
   "cell_type": "markdown",
   "metadata": {},
   "source": [
    "### DataFrame -> seznam"
   ]
  },
  {
   "cell_type": "code",
   "execution_count": 45,
   "metadata": {},
   "outputs": [
    {
     "data": {
      "text/plain": [
       "[['JHM', '379 527', 22, 230.22],\n",
       " ['LBK', '103 979', 6, 106.09],\n",
       " ['ULK', '24 143', 5, 40.7],\n",
       " ['ULK', '66 644', 5, 86.94],\n",
       " ['OLK', '100 494', 7, 103.36],\n",
       " ['MSK', '290 450', 15, 214.23],\n",
       " ['PLK', '170 936', 3, 137.65],\n",
       " ['PHA', '1 294 513', 24, 496.0]]"
      ]
     },
     "execution_count": 45,
     "metadata": {},
     "output_type": "execute_result"
    }
   ],
   "source": [
    "mesta.values.tolist()"
   ]
  },
  {
   "cell_type": "markdown",
   "metadata": {},
   "source": [
    "V datech chybí názvy měst. Pandas totiž nebere index jako součást dat, ale jen jako popis tabulky. Je tedy potřeba ho do tabulky nejdřív dostat."
   ]
  },
  {
   "cell_type": "code",
   "execution_count": 46,
   "metadata": {},
   "outputs": [
    {
     "data": {
      "text/html": [
       "<div>\n",
       "<style scoped>\n",
       "    .dataframe tbody tr th:only-of-type {\n",
       "        vertical-align: middle;\n",
       "    }\n",
       "\n",
       "    .dataframe tbody tr th {\n",
       "        vertical-align: top;\n",
       "    }\n",
       "\n",
       "    .dataframe thead th {\n",
       "        text-align: right;\n",
       "    }\n",
       "</style>\n",
       "<table border=\"1\" class=\"dataframe\">\n",
       "  <thead>\n",
       "    <tr style=\"text-align: right;\">\n",
       "      <th></th>\n",
       "      <th>mesto</th>\n",
       "      <th>kraj</th>\n",
       "      <th>obyvatel</th>\n",
       "      <th>linky</th>\n",
       "      <th>vymera</th>\n",
       "    </tr>\n",
       "  </thead>\n",
       "  <tbody>\n",
       "    <tr>\n",
       "      <th>0</th>\n",
       "      <td>brno</td>\n",
       "      <td>JHM</td>\n",
       "      <td>379 527</td>\n",
       "      <td>22</td>\n",
       "      <td>230.22</td>\n",
       "    </tr>\n",
       "    <tr>\n",
       "      <th>1</th>\n",
       "      <td>liberec</td>\n",
       "      <td>LBK</td>\n",
       "      <td>103 979</td>\n",
       "      <td>6</td>\n",
       "      <td>106.09</td>\n",
       "    </tr>\n",
       "    <tr>\n",
       "      <th>2</th>\n",
       "      <td>litvinov</td>\n",
       "      <td>ULK</td>\n",
       "      <td>24 143</td>\n",
       "      <td>5</td>\n",
       "      <td>40.70</td>\n",
       "    </tr>\n",
       "    <tr>\n",
       "      <th>3</th>\n",
       "      <td>most</td>\n",
       "      <td>ULK</td>\n",
       "      <td>66 644</td>\n",
       "      <td>5</td>\n",
       "      <td>86.94</td>\n",
       "    </tr>\n",
       "    <tr>\n",
       "      <th>4</th>\n",
       "      <td>olomouc</td>\n",
       "      <td>OLK</td>\n",
       "      <td>100 494</td>\n",
       "      <td>7</td>\n",
       "      <td>103.36</td>\n",
       "    </tr>\n",
       "    <tr>\n",
       "      <th>5</th>\n",
       "      <td>ostrava</td>\n",
       "      <td>MSK</td>\n",
       "      <td>290 450</td>\n",
       "      <td>15</td>\n",
       "      <td>214.23</td>\n",
       "    </tr>\n",
       "    <tr>\n",
       "      <th>6</th>\n",
       "      <td>plzen</td>\n",
       "      <td>PLK</td>\n",
       "      <td>170 936</td>\n",
       "      <td>3</td>\n",
       "      <td>137.65</td>\n",
       "    </tr>\n",
       "    <tr>\n",
       "      <th>7</th>\n",
       "      <td>praha</td>\n",
       "      <td>PHA</td>\n",
       "      <td>1 294 513</td>\n",
       "      <td>24</td>\n",
       "      <td>496.00</td>\n",
       "    </tr>\n",
       "  </tbody>\n",
       "</table>\n",
       "</div>"
      ],
      "text/plain": [
       "      mesto kraj   obyvatel  linky  vymera\n",
       "0      brno  JHM    379 527     22  230.22\n",
       "1   liberec  LBK    103 979      6  106.09\n",
       "2  litvinov  ULK     24 143      5   40.70\n",
       "3      most  ULK     66 644      5   86.94\n",
       "4   olomouc  OLK    100 494      7  103.36\n",
       "5   ostrava  MSK    290 450     15  214.23\n",
       "6     plzen  PLK    170 936      3  137.65\n",
       "7     praha  PHA  1 294 513     24  496.00"
      ]
     },
     "execution_count": 46,
     "metadata": {},
     "output_type": "execute_result"
    }
   ],
   "source": [
    "mesta.reset_index()"
   ]
  },
  {
   "cell_type": "code",
   "execution_count": 47,
   "metadata": {},
   "outputs": [
    {
     "data": {
      "text/plain": [
       "[['brno', 'JHM', '379 527', 22, 230.22],\n",
       " ['liberec', 'LBK', '103 979', 6, 106.09],\n",
       " ['litvinov', 'ULK', '24 143', 5, 40.7],\n",
       " ['most', 'ULK', '66 644', 5, 86.94],\n",
       " ['olomouc', 'OLK', '100 494', 7, 103.36],\n",
       " ['ostrava', 'MSK', '290 450', 15, 214.23],\n",
       " ['plzen', 'PLK', '170 936', 3, 137.65],\n",
       " ['praha', 'PHA', '1 294 513', 24, 496.0]]"
      ]
     },
     "execution_count": 47,
     "metadata": {},
     "output_type": "execute_result"
    }
   ],
   "source": [
    "mesta_seznam = mesta.reset_index().values.tolist()\n",
    "mesta_seznam"
   ]
  },
  {
   "cell_type": "markdown",
   "metadata": {},
   "source": [
    "Pozor, `list(mesta)` nedělá to co bychom čekali."
   ]
  },
  {
   "cell_type": "code",
   "execution_count": 48,
   "metadata": {},
   "outputs": [
    {
     "data": {
      "text/plain": [
       "['kraj', 'obyvatel', 'linky', 'vymera']"
      ]
     },
     "execution_count": 48,
     "metadata": {},
     "output_type": "execute_result"
    }
   ],
   "source": [
    "list(mesta)"
   ]
  },
  {
   "cell_type": "markdown",
   "metadata": {},
   "source": [
    "### Seznam -> DataFrame"
   ]
  },
  {
   "cell_type": "code",
   "execution_count": 49,
   "metadata": {},
   "outputs": [
    {
     "data": {
      "text/html": [
       "<div>\n",
       "<style scoped>\n",
       "    .dataframe tbody tr th:only-of-type {\n",
       "        vertical-align: middle;\n",
       "    }\n",
       "\n",
       "    .dataframe tbody tr th {\n",
       "        vertical-align: top;\n",
       "    }\n",
       "\n",
       "    .dataframe thead th {\n",
       "        text-align: right;\n",
       "    }\n",
       "</style>\n",
       "<table border=\"1\" class=\"dataframe\">\n",
       "  <thead>\n",
       "    <tr style=\"text-align: right;\">\n",
       "      <th></th>\n",
       "      <th>0</th>\n",
       "      <th>1</th>\n",
       "      <th>2</th>\n",
       "      <th>3</th>\n",
       "      <th>4</th>\n",
       "    </tr>\n",
       "  </thead>\n",
       "  <tbody>\n",
       "    <tr>\n",
       "      <th>0</th>\n",
       "      <td>brno</td>\n",
       "      <td>JHM</td>\n",
       "      <td>379 527</td>\n",
       "      <td>22</td>\n",
       "      <td>230.22</td>\n",
       "    </tr>\n",
       "    <tr>\n",
       "      <th>1</th>\n",
       "      <td>liberec</td>\n",
       "      <td>LBK</td>\n",
       "      <td>103 979</td>\n",
       "      <td>6</td>\n",
       "      <td>106.09</td>\n",
       "    </tr>\n",
       "    <tr>\n",
       "      <th>2</th>\n",
       "      <td>litvinov</td>\n",
       "      <td>ULK</td>\n",
       "      <td>24 143</td>\n",
       "      <td>5</td>\n",
       "      <td>40.70</td>\n",
       "    </tr>\n",
       "    <tr>\n",
       "      <th>3</th>\n",
       "      <td>most</td>\n",
       "      <td>ULK</td>\n",
       "      <td>66 644</td>\n",
       "      <td>5</td>\n",
       "      <td>86.94</td>\n",
       "    </tr>\n",
       "    <tr>\n",
       "      <th>4</th>\n",
       "      <td>olomouc</td>\n",
       "      <td>OLK</td>\n",
       "      <td>100 494</td>\n",
       "      <td>7</td>\n",
       "      <td>103.36</td>\n",
       "    </tr>\n",
       "    <tr>\n",
       "      <th>5</th>\n",
       "      <td>ostrava</td>\n",
       "      <td>MSK</td>\n",
       "      <td>290 450</td>\n",
       "      <td>15</td>\n",
       "      <td>214.23</td>\n",
       "    </tr>\n",
       "    <tr>\n",
       "      <th>6</th>\n",
       "      <td>plzen</td>\n",
       "      <td>PLK</td>\n",
       "      <td>170 936</td>\n",
       "      <td>3</td>\n",
       "      <td>137.65</td>\n",
       "    </tr>\n",
       "    <tr>\n",
       "      <th>7</th>\n",
       "      <td>praha</td>\n",
       "      <td>PHA</td>\n",
       "      <td>1 294 513</td>\n",
       "      <td>24</td>\n",
       "      <td>496.00</td>\n",
       "    </tr>\n",
       "  </tbody>\n",
       "</table>\n",
       "</div>"
      ],
      "text/plain": [
       "          0    1          2   3       4\n",
       "0      brno  JHM    379 527  22  230.22\n",
       "1   liberec  LBK    103 979   6  106.09\n",
       "2  litvinov  ULK     24 143   5   40.70\n",
       "3      most  ULK     66 644   5   86.94\n",
       "4   olomouc  OLK    100 494   7  103.36\n",
       "5   ostrava  MSK    290 450  15  214.23\n",
       "6     plzen  PLK    170 936   3  137.65\n",
       "7     praha  PHA  1 294 513  24  496.00"
      ]
     },
     "execution_count": 49,
     "metadata": {},
     "output_type": "execute_result"
    }
   ],
   "source": [
    "pandas.DataFrame(mesta_seznam)"
   ]
  },
  {
   "cell_type": "markdown",
   "metadata": {},
   "source": [
    "To funguje, akorát Pandas neví jak pojmenovat sloupce -- v seznamu žádná taková informace není. Pokud se nám nelíbí čísla která automatický dosadí, dodáme názvy sloupců sami."
   ]
  },
  {
   "cell_type": "code",
   "execution_count": 50,
   "metadata": {},
   "outputs": [
    {
     "data": {
      "text/html": [
       "<div>\n",
       "<style scoped>\n",
       "    .dataframe tbody tr th:only-of-type {\n",
       "        vertical-align: middle;\n",
       "    }\n",
       "\n",
       "    .dataframe tbody tr th {\n",
       "        vertical-align: top;\n",
       "    }\n",
       "\n",
       "    .dataframe thead th {\n",
       "        text-align: right;\n",
       "    }\n",
       "</style>\n",
       "<table border=\"1\" class=\"dataframe\">\n",
       "  <thead>\n",
       "    <tr style=\"text-align: right;\">\n",
       "      <th></th>\n",
       "      <th>mesto</th>\n",
       "      <th>kraj</th>\n",
       "      <th>obyvatel</th>\n",
       "      <th>linky</th>\n",
       "      <th>vymera</th>\n",
       "    </tr>\n",
       "  </thead>\n",
       "  <tbody>\n",
       "    <tr>\n",
       "      <th>0</th>\n",
       "      <td>brno</td>\n",
       "      <td>JHM</td>\n",
       "      <td>379 527</td>\n",
       "      <td>22</td>\n",
       "      <td>230.22</td>\n",
       "    </tr>\n",
       "    <tr>\n",
       "      <th>1</th>\n",
       "      <td>liberec</td>\n",
       "      <td>LBK</td>\n",
       "      <td>103 979</td>\n",
       "      <td>6</td>\n",
       "      <td>106.09</td>\n",
       "    </tr>\n",
       "    <tr>\n",
       "      <th>2</th>\n",
       "      <td>litvinov</td>\n",
       "      <td>ULK</td>\n",
       "      <td>24 143</td>\n",
       "      <td>5</td>\n",
       "      <td>40.70</td>\n",
       "    </tr>\n",
       "    <tr>\n",
       "      <th>3</th>\n",
       "      <td>most</td>\n",
       "      <td>ULK</td>\n",
       "      <td>66 644</td>\n",
       "      <td>5</td>\n",
       "      <td>86.94</td>\n",
       "    </tr>\n",
       "    <tr>\n",
       "      <th>4</th>\n",
       "      <td>olomouc</td>\n",
       "      <td>OLK</td>\n",
       "      <td>100 494</td>\n",
       "      <td>7</td>\n",
       "      <td>103.36</td>\n",
       "    </tr>\n",
       "    <tr>\n",
       "      <th>5</th>\n",
       "      <td>ostrava</td>\n",
       "      <td>MSK</td>\n",
       "      <td>290 450</td>\n",
       "      <td>15</td>\n",
       "      <td>214.23</td>\n",
       "    </tr>\n",
       "    <tr>\n",
       "      <th>6</th>\n",
       "      <td>plzen</td>\n",
       "      <td>PLK</td>\n",
       "      <td>170 936</td>\n",
       "      <td>3</td>\n",
       "      <td>137.65</td>\n",
       "    </tr>\n",
       "    <tr>\n",
       "      <th>7</th>\n",
       "      <td>praha</td>\n",
       "      <td>PHA</td>\n",
       "      <td>1 294 513</td>\n",
       "      <td>24</td>\n",
       "      <td>496.00</td>\n",
       "    </tr>\n",
       "  </tbody>\n",
       "</table>\n",
       "</div>"
      ],
      "text/plain": [
       "      mesto kraj   obyvatel  linky  vymera\n",
       "0      brno  JHM    379 527     22  230.22\n",
       "1   liberec  LBK    103 979      6  106.09\n",
       "2  litvinov  ULK     24 143      5   40.70\n",
       "3      most  ULK     66 644      5   86.94\n",
       "4   olomouc  OLK    100 494      7  103.36\n",
       "5   ostrava  MSK    290 450     15  214.23\n",
       "6     plzen  PLK    170 936      3  137.65\n",
       "7     praha  PHA  1 294 513     24  496.00"
      ]
     },
     "execution_count": 50,
     "metadata": {},
     "output_type": "execute_result"
    }
   ],
   "source": [
    "pandas.DataFrame(mesta_seznam, columns=[\"mesto\", \"kraj\", \"obyvatel\", \"linky\", \"vymera\"])"
   ]
  },
  {
   "cell_type": "markdown",
   "metadata": {},
   "source": [
    "## B Cvičení"
   ]
  },
  {
   "cell_type": "code",
   "execution_count": null,
   "metadata": {},
   "outputs": [],
   "source": []
  }
 ],
 "metadata": {
  "kernelspec": {
   "display_name": "Python 3",
   "language": "python",
   "name": "python3"
  },
  "language_info": {
   "codemirror_mode": {
    "name": "ipython",
    "version": 3
   },
   "file_extension": ".py",
   "mimetype": "text/x-python",
   "name": "python",
   "nbconvert_exporter": "python",
   "pygments_lexer": "ipython3",
   "version": "3.7.7"
  }
 },
 "nbformat": 4,
 "nbformat_minor": 4
}
